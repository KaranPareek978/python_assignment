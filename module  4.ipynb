{
 "cells": [
  {
   "cell_type": "code",
   "execution_count": null,
   "id": "c3c11bfb",
   "metadata": {},
   "outputs": [],
   "source": [
    "#What is File function in python? What is keywords to create and write file.\n",
    "\n",
    "#A file is a container in computer storage devices used for storing data.\n",
    "#When we want to read from or write to a file, we need to open it first.\n",
    "#When we are done, it needs to be closed so that the resources that are tied with the file are freed.\n",
    "\n",
    "# In order to write into a file in Python, \n",
    "#we need to open it in write mode by passing \"w\" inside open() as a second argument.\n",
    "\n",
    "#'x'Open a file for exclusive creation. If the file already exists, the operation fails. "
   ]
  },
  {
   "cell_type": "code",
   "execution_count": 3,
   "id": "edd6d4b4",
   "metadata": {},
   "outputs": [
    {
     "name": "stdout",
     "output_type": "stream",
     "text": [
      "This is an example text file.\n",
      "It contains some lines of text.\n",
      "You can customize the content as needed.\n"
     ]
    }
   ],
   "source": [
    "#Write a Python program to read an entire text file. \n",
    "\n",
    "f = open(r'D:\\python\\new.txt', 'r')\n",
    "print(f.read())"
   ]
  },
  {
   "cell_type": "code",
   "execution_count": 1,
   "id": "b141b6c3",
   "metadata": {},
   "outputs": [],
   "source": [
    "#Write a Python program to append text to a file and display the text. \n",
    "\n",
    "file_object = open(r'D:\\python\\new.txt', 'a')\n",
    "# Append 'hello' at the end of file\n",
    "file_object.write('hello')\n",
    "# Close the file\n",
    "file_object = open(r'D:\\python\\new.txt','r')"
   ]
  },
  {
   "cell_type": "code",
   "execution_count": 4,
   "id": "b5c5910d",
   "metadata": {},
   "outputs": [
    {
     "name": "stdout",
     "output_type": "stream",
     "text": [
      "This is an example text file.\n",
      "It contains some lines of text.\n",
      "You can customize the content as needed.hellohellohellohellohellohellohellohellohellohellohellohellohello\n"
     ]
    }
   ],
   "source": [
    "#Write a Python program to read first n lines of a file\n",
    "\n",
    "def read_first_n_lines(filename, n):\n",
    "    with open(filename, 'r') as file:\n",
    "        lines = file.readlines()\n",
    "        first_n_lines = lines[:n]\n",
    "        return first_n_lines\n",
    "\n",
    "file_path = r'D:\\python\\new.txt'\n",
    "number_of_lines = 5  # Number of lines to read\n",
    "\n",
    "result = read_first_n_lines(file_path, number_of_lines)\n",
    "for line in result:\n",
    "    print(line.strip())"
   ]
  },
  {
   "cell_type": "code",
   "execution_count": 7,
   "id": "fbc17e34",
   "metadata": {},
   "outputs": [
    {
     "name": "stdout",
     "output_type": "stream",
     "text": [
      "['This is an example text file.\\n', 'It contains some lines of text.\\n', 'You can customize the content as needed.hellohellohellohellohellohellohellohellohellohellohellohellohello']\n"
     ]
    }
   ],
   "source": [
    "#Write a Python program to read a file line by line and store it into a list\n",
    "\n",
    "def file_read(fname):\n",
    "        with open(fname) as f:\n",
    "                #Content_list is the list that contains the read lines.     \n",
    "                content_list = f.readlines()\n",
    "                print(content_list)\n",
    "\n",
    "file_read(r'D:\\python\\new.txt')\n",
    "\n",
    "\n",
    "\n",
    "\n",
    "\n",
    "\n"
   ]
  },
  {
   "cell_type": "code",
   "execution_count": 8,
   "id": "9c32ae00",
   "metadata": {},
   "outputs": [
    {
     "name": "stdout",
     "output_type": "stream",
     "text": [
      "['This is an example text file.\\n', 'It contains some lines of text.\\n', 'You can customize the content as needed.hellohellohellohellohellohellohellohellohellohellohellohellohello']\n"
     ]
    }
   ],
   "source": [
    "#Write a Python program to read a file line by line store it into a variable.\n",
    "\n",
    "def file_read(fname):\n",
    "        with open (fname, \"r\") as myfile:\n",
    "                data=myfile.readlines()\n",
    "                print(data)\n",
    "file_read(r'D:\\python\\new.txt')"
   ]
  },
  {
   "cell_type": "code",
   "execution_count": 10,
   "id": "f98cfee2",
   "metadata": {},
   "outputs": [
    {
     "name": "stdout",
     "output_type": "stream",
     "text": [
      "The following are the longest words from a text file:\n",
      "['needed.hellohellohellohellohellohellohellohellohellohellohellohellohello']\n"
     ]
    }
   ],
   "source": [
    "#Write a python program to find the longest words. \n",
    "\n",
    "inputFile = r'D:\\python\\new.txt'\n",
    "with open(inputFile, 'r') as filedata:\n",
    "    wordsList = filedata.read().split()\n",
    "    longestWordLength = len(max(wordsList, key=len))\n",
    "result = [textword for textword in wordsList if len(textword) == longestWordLength]\n",
    "print(\"The following are the longest words from a text file:\")\n",
    "print(result)\n",
    "\n",
    "# Closing the input file\n",
    "filedata.close()"
   ]
  },
  {
   "cell_type": "code",
   "execution_count": 11,
   "id": "2350580e",
   "metadata": {},
   "outputs": [
    {
     "name": "stdout",
     "output_type": "stream",
     "text": [
      "Number of lines: 3\n"
     ]
    }
   ],
   "source": [
    "#Write a Python program to count the number of lines in a text file. \n",
    "\n",
    "def count_lines(filename):\n",
    "    with open(filename, 'r') as file:\n",
    "        line_count = 0\n",
    "        for line in file:\n",
    "            line_count += 1\n",
    "    return line_count\n",
    "\n",
    "file_path =  r'D:\\python\\new.txt' \n",
    "\n",
    "num_lines = count_lines(file_path)\n",
    "print(\"Number of lines:\", num_lines)"
   ]
  },
  {
   "cell_type": "code",
   "execution_count": 12,
   "id": "bab092a6",
   "metadata": {},
   "outputs": [
    {
     "name": "stdout",
     "output_type": "stream",
     "text": [
      "Number of words in the file : Counter({'This': 1, 'is': 1, 'an': 1, 'example': 1, 'text': 1, 'file.': 1, 'It': 1, 'contains': 1, 'some': 1, 'lines': 1, 'of': 1, 'text.': 1, 'You': 1, 'can': 1, 'customize': 1, 'the': 1, 'content': 1, 'as': 1, 'needed.hellohellohellohellohellohellohellohellohellohellohellohellohello': 1})\n"
     ]
    }
   ],
   "source": [
    "#Write a Python program to count the frequency of words in a file. \n",
    "\n",
    "from collections import Counter\n",
    "def word_count(fname):\n",
    "        with open(fname) as f:\n",
    "                return Counter(f.read().split())\n",
    "\n",
    "print(\"Number of words in the file :\",word_count(r'D:\\python\\new.txt'))"
   ]
  },
  {
   "cell_type": "code",
   "execution_count": 18,
   "id": "8acb253f",
   "metadata": {},
   "outputs": [],
   "source": [
    "#Write a Python program to write a list to a file\n",
    "\n",
    "def write_list_to_file(filename, data):\n",
    "    with open(filename, 'w') as file:\n",
    "        for item in data:\n",
    "            file.write(str(item) + '\\n')\n",
    "\n",
    "# Example usage\n",
    "file_path = r'D:\\python\\new.txt'  # Replace with the desired path and filename\n",
    "my_list = [1, 2, 3, 4, 5]\n",
    "\n",
    "write_list_to_file(file_path, my_list)\n"
   ]
  },
  {
   "cell_type": "code",
   "execution_count": 23,
   "id": "d8c3c4a9",
   "metadata": {},
   "outputs": [],
   "source": [
    "#Write a Python program to copy the contents of a file to another file. \n",
    "\n",
    "def copy_file(source_file, destination_file):\n",
    "    with open(source_file, 'r') as source:\n",
    "        with open(destination_file, 'w') as destination:\n",
    "            destination.write(source.read())\n",
    "source_path =  r'D:\\python\\new.txt'\n",
    "destination_path = r'D:\\python\\new2.txt'\n",
    "copy_file(source_path, destination_path)"
   ]
  },
  {
   "cell_type": "code",
   "execution_count": 20,
   "id": "3e5d2a28",
   "metadata": {},
   "outputs": [],
   "source": [
    "f = open( r'D:\\python\\new2.txt', \"x\")"
   ]
  },
  {
   "cell_type": "code",
   "execution_count": 21,
   "id": "5c37b05f",
   "metadata": {},
   "outputs": [],
   "source": [
    "f = open(r'D:\\python\\new2.txt', \"w\")\n",
    "f.write(\"\"\"this is python language.\"\"\")\n",
    "f.close()"
   ]
  },
  {
   "cell_type": "code",
   "execution_count": null,
   "id": "c7d6dd0e",
   "metadata": {},
   "outputs": [],
   "source": [
    "#Explain Exception handling? What is an Error in Python?\n",
    "\n",
    "Exception handling in Python is a mechanism that allows you to gracefully handle and manage runtime errors or exceptional situations that may occur during the execution of a program. \n",
    "Exceptions are events or conditions that disrupt the normal flow of program execution. \n",
    "By using exception handling, you can catch and handle these exceptions, preventing the program from abruptly terminating and providing a way to recover from errors or handle exceptional cases.\n",
    "\n",
    "In Python, errors are represented as exceptions.\n",
    "An error is an undesirable or unexpected condition that occurs during the execution of a program, \n",
    "resulting in the termination of the program or causing it to behave in an unintended manner.\n",
    "Errors can occur due to various reasons, such as invalid input, incorrect usage of functions or methods, file handling issues, and more.\n",
    "\n",
    "Python provides a built-in exception hierarchy with different types of exceptions that can be raised during program execution.\n",
    "Each exception type represents a specific category of error.\n",
    "Some commonly encountered exception types in Python include SyntaxError, TypeError, ValueError, FileNotFoundError, ZeroDivisionError, and KeyError, among others."
   ]
  },
  {
   "cell_type": "code",
   "execution_count": null,
   "id": "157ff536",
   "metadata": {},
   "outputs": [],
   "source": [
    "#How many except statements can a try-except block have? Name Somebuilt-in exception classes:\n",
    "\n",
    "there are four except statements following the try block.\n",
    "Each except statement specifies a different exception type that should be handled separately.\n",
    "The first three except statements handle specific exceptions (ValueError, FileNotFoundError, ZeroDivisionError), while the last except statement without a specific exception type handles any other exceptions that are not explicitly caught by the previous except statements."
   ]
  },
  {
   "cell_type": "code",
   "execution_count": null,
   "id": "f6934d10",
   "metadata": {},
   "outputs": [],
   "source": [
    "#When will the else part of try-except-else be executed? \n",
    "\n",
    "The else block in a try-except-else statement in Python is executed when no exceptions are raised in the corresponding try block. \n",
    "It provides a way to specify code that should be executed if the try block completes successfully without any exceptions being raised.\n",
    "\n",
    "If an exception is raised within the try block, the control flow immediately jumps to the corresponding except block that matches the raised exception type. \n",
    "If no exception is raised, the code within the else block is executed after the try block completes its execution."
   ]
  },
  {
   "cell_type": "code",
   "execution_count": null,
   "id": "de108e16",
   "metadata": {},
   "outputs": [],
   "source": [
    "#Can one block of except statements handle multiple exception? \n",
    "\n",
    "Yes, a single block of except statements in Python can handle multiple exceptions. \n",
    "This is achieved by specifying multiple exception types within the same except block, separated by commas.\n",
    "\n",
    "By grouping multiple exception types within a single except block, you can provide a common set of actions to be taken when any of the specified exceptions occur. \n",
    "This can be useful when you want to handle related exceptions in a similar manner, without duplicating the same code across multiple except blocks."
   ]
  },
  {
   "cell_type": "code",
   "execution_count": null,
   "id": "b9ee6f2e",
   "metadata": {},
   "outputs": [],
   "source": [
    "#When is the finally block executed? \n",
    "\n",
    "The finally block in a try-except-finally statement in Python is executed regardless of whether an exception is raised or not. \n",
    "It provides a way to specify cleanup code that should be executed in any case, ensuring that certain actions are performed regardless of the outcome of the try and except blocks.\n",
    "\n",
    "The finally block is optional and follows the try and except blocks. \n",
    "It is guaranteed to be executed, whether an exception is raised or not, and regardless of whether an exception is caught or propagated.\n",
    "\n",
    "The purpose of the finally block is to specify code that should be executed to perform essential cleanup tasks, \n",
    "such as closing files or releasing resources, regardless of the outcome of the try and except blocks. \n",
    "This ensures that the cleanup code is executed even if an exception occurs and is not caught by any except block.\n",
    "\n",
    "The finally block is commonly used in scenarios where certain actions must be taken regardless of whether an error occurred or not. \n",
    "For example, it is often used to close opened files, release database connections, or perform other cleanup operations that are necessary for the proper functioning of the program.\n"
   ]
  },
  {
   "cell_type": "code",
   "execution_count": null,
   "id": "b013beae",
   "metadata": {},
   "outputs": [],
   "source": [
    "# What happens when „1‟== 1 is executed? \n",
    "\n",
    "When the expression \"1\" == 1 is executed in Python, it compares the string \"1\" with the integer 1 using the equality operator (==). \n",
    "However, since the operands have different types (string and integer), the comparison will evaluate to False.\n",
    "\n",
    "In Python, the equality operator (==) checks for equality between the values of two operands. \n",
    "If the operands are of different types, Python will not automatically attempt to convert one type to match the other. \n",
    "Instead, it will directly compare the values and determine them to be different.\n",
    "\n",
    "In this case, the string \"1\" and the integer 1 have different values and types. \n",
    "The string \"1\" represents the character \"1\", whereas the integer 1 represents the numerical value 1. \n",
    "Therefore, the comparison \"1\" == 1 will evaluate to False."
   ]
  },
  {
   "cell_type": "code",
   "execution_count": null,
   "id": "36bdc471",
   "metadata": {},
   "outputs": [],
   "source": [
    "# How Do You Handle Exceptions With Try/Except/Finally In Python?Explain with coding snippets.\n",
    "\n",
    "try:\n",
    "    # Code that may raise exceptions\n",
    "    ...\n",
    "except ExceptionType1:\n",
    "    # Handle ExceptionType1\n",
    "    ...\n",
    "except ExceptionType2:\n",
    "    # Handle ExceptionType2\n",
    "    ...\n",
    "finally:\n",
    "    # Cleanup code to be executed regardless of exceptions\n",
    "    ...\n",
    "    \n",
    "#the try block contains the code that may raise exceptions. \n",
    "#If an exception of ExceptionType1 occurs, the corresponding except block is executed. \n",
    "#Similarly, if an exception of ExceptionType2 occurs, the corresponding except block is executed. \n",
    "#The finally block is executed regardless of whether an exception was raised or not, allowing you to specify cleanup code that should be executed in any case.   "
   ]
  },
  {
   "cell_type": "code",
   "execution_count": 24,
   "id": "a15f34a2",
   "metadata": {},
   "outputs": [
    {
     "name": "stdout",
     "output_type": "stream",
     "text": [
      "Enter an odd number: 5\n",
      "You entered an odd number: 5\n"
     ]
    }
   ],
   "source": [
    "#Write python program that user to enter only odd numbers, else will raise an exception. \n",
    "\n",
    "while True:\n",
    "    try:\n",
    "        num = int(input(\"Enter an odd number: \"))\n",
    "        if num % 2 == 0:\n",
    "            raise ValueError(\"Even number entered!\")\n",
    "        break  # Break out of the loop if an odd number is entered\n",
    "    except ValueError as e:\n",
    "        print(e)\n",
    "\n",
    "print(\"You entered an odd number:\", num)"
   ]
  },
  {
   "cell_type": "code",
   "execution_count": null,
   "id": "9ee0ecc6",
   "metadata": {},
   "outputs": [],
   "source": [
    "#What are oops concepts? Is multiple inheritance supported in java \n",
    "\n",
    "OOPs (Object-Oriented Programming) concepts are a set of principles and methodologies that focus on \n",
    "structuring code and organizing data based on objects. These concepts enable developers to design \n",
    "and implement software systems using the concepts of abstraction, encapsulation, inheritance, and polymorphism.\n",
    "\n",
    "Encapsulation: It is the mechanism of bundling data and related behavior (methods) together into objects. \n",
    "               Encapsulation hides the internal details of an object and provides access to its functionalities through well-defined interfaces.\n",
    "\n",
    "Inheritance: It allows the creation of new classes (derived or child classes) that inherit properties and behaviors from existing classes (base or parent classes). \n",
    "             Inheritance promotes code reusability and supports the concept of hierarchical classification.        \n",
    "        \n",
    "Polymorphism: It refers to the ability of an object to take on multiple forms or have multiple behaviors. \n",
    "              Polymorphism allows objects of different classes to be treated as objects of a common superclass, enabling method overriding and method overloading.    \n",
    "        \n",
    "Abstraction: It is the process of identifying and defining essential features or behaviors of an object while hiding the unnecessary details.\n",
    "             Abstraction allows developers to create abstract classes and interfaces that can be extended or implemented by concrete classes.   \n",
    "        \n",
    "Java supports single inheritance, where a class can inherit from only one superclass.\n",
    "However, Java does not support multiple inheritance, where a class can inherit from multiple\n",
    "superclasses simultaneously. This design decision was made to avoid complexities and conflicts\n",
    "that can arise when multiple superclasses define the same method or attribute.\n",
    "Instead of multiple inheritance, Java emphasizes the use of interfaces to achieve similar \n",
    "functionality through interface implementation and interface inheritance.      "
   ]
  },
  {
   "cell_type": "code",
   "execution_count": 25,
   "id": "117f389b",
   "metadata": {},
   "outputs": [
    {
     "name": "stdout",
     "output_type": "stream",
     "text": [
      "Hello, I am a class attribute\n",
      "Hello, Karan!\n"
     ]
    }
   ],
   "source": [
    "#How to Define a Class in Python? What Is Self? Give An Example Of A Python Class\n",
    "\n",
    "#To define a class in Python, you can use the class keyword followed by the name of the class. \n",
    "#The class definition typically consists of class attributes (variables) and methods (functions).\n",
    "\n",
    "class MyClass:\n",
    "    # Class attribute\n",
    "    class_variable = \"Hello, I am a class attribute\"\n",
    "\n",
    "   \n",
    "    def __init__(self, name):\n",
    "        # Instance attribute\n",
    "        self.name = name\n",
    "\n",
    "    \n",
    "    def greet(self):\n",
    "        print(f\"Hello, {self.name}!\")\n",
    "\n",
    "# Creating an instance of the class\n",
    "obj = MyClass(\"Karan\")\n",
    "print(obj.class_variable)\n",
    "obj.greet()"
   ]
  },
  {
   "cell_type": "code",
   "execution_count": 26,
   "id": "9a8b9ad1",
   "metadata": {},
   "outputs": [
    {
     "name": "stdout",
     "output_type": "stream",
     "text": [
      "Area: 20\n"
     ]
    }
   ],
   "source": [
    "#Write a Python class named Rectangle constructed by a length and\n",
    "#width and a method which will compute the area of a rectangle\n",
    "\n",
    "class Rectangle:\n",
    "    def __init__(self, length, width):\n",
    "        self.length = length\n",
    "        self.width = width\n",
    "\n",
    "    def compute_area(self):\n",
    "        return self.length * self.width\n",
    "\n",
    "rect = Rectangle(4, 5)\n",
    "area = rect.compute_area()\n",
    "print(\"Area:\", area)"
   ]
  },
  {
   "cell_type": "code",
   "execution_count": 27,
   "id": "2bd4d003",
   "metadata": {},
   "outputs": [
    {
     "name": "stdout",
     "output_type": "stream",
     "text": [
      "Area: 28.274333882308138\n",
      "Perimeter: 18.84955592153876\n"
     ]
    }
   ],
   "source": [
    "#Write a Python class named Circle constructed by a radius and two\n",
    "#methods which will compute the area and the perimeter of a circle \n",
    "\n",
    "import math\n",
    "\n",
    "class Circle:\n",
    "    def __init__(self, radius):\n",
    "        self.radius = radius\n",
    "\n",
    "    def compute_area(self):\n",
    "        return math.pi * (self.radius ** 2)\n",
    "\n",
    "    def compute_perimeter(self):\n",
    "        return 2 * math.pi * self.radius\n",
    "\n",
    "circle = Circle(3)\n",
    "area = circle.compute_area()\n",
    "perimeter = circle.compute_perimeter()\n",
    "\n",
    "print(\"Area:\", area)\n",
    "print(\"Perimeter:\", perimeter)"
   ]
  },
  {
   "cell_type": "code",
   "execution_count": 28,
   "id": "790045b3",
   "metadata": {},
   "outputs": [
    {
     "name": "stdout",
     "output_type": "stream",
     "text": [
      "Name: Buddy\n",
      "Dog barks\n"
     ]
    }
   ],
   "source": [
    "#Explain Inheritance in Python with an example? What is init? Or WhatIs A Constructor In Python? \n",
    "\n",
    "class Animal:\n",
    "    def __init__(self, name):\n",
    "        self.name = name\n",
    "\n",
    "    def speak(self):\n",
    "        print(\"Animal speaks\")\n",
    "\n",
    "\n",
    "class Dog(Animal):\n",
    "    def speak(self):\n",
    "        print(\"Dog barks\")\n",
    "\n",
    "dog = Dog(\"Buddy\")\n",
    "print(\"Name:\", dog.name)\n",
    "dog.speak()"
   ]
  },
  {
   "cell_type": "code",
   "execution_count": 29,
   "id": "62d534cf",
   "metadata": {},
   "outputs": [
    {
     "name": "stdout",
     "output_type": "stream",
     "text": [
      "obj1 is an instance of class A\n",
      "obj2 is not an instance of class A\n"
     ]
    }
   ],
   "source": [
    "#What is used to check whether an object o is an instance of class A?\n",
    "\n",
    "class A:\n",
    "    pass\n",
    "\n",
    "class B:\n",
    "    pass\n",
    "\n",
    "# Creating instances of classes A and B\n",
    "obj1 = A()\n",
    "obj2 = B()\n",
    "\n",
    "if isinstance(obj1, A):\n",
    "    print(\"obj1 is an instance of class A\")\n",
    "else:\n",
    "    print(\"obj1 is not an instance of class A\")\n",
    "\n",
    "if isinstance(obj2, A):\n",
    "    print(\"obj2 is an instance of class A\")\n",
    "else:\n",
    "    print(\"obj2 is not an instance of class A\")"
   ]
  },
  {
   "cell_type": "code",
   "execution_count": null,
   "id": "a29351eb",
   "metadata": {},
   "outputs": [],
   "source": [
    "#What is Instantiation in terms of OOP terminology? \n",
    "\n",
    "In object-oriented programming (OOP) terminology, instantiation refers to the process of creating an instance or object of \n",
    "a class. An instance is a specific occurrence or realization of a class, with its own unique set of attribute values and state.\n",
    "\n",
    "When you instantiate a class, you create a new object based on that class's definition. \n",
    "The object becomes an instance of that class, and it can access the attributes and methods defined within the class.\n",
    "\n",
    "In Python, instantiation is typically done by calling the class as if it were a function, with any required arguments.\n",
    "This creates a new instance of the class, and you can assign it to a variable for further use.\n",
    "\n"
   ]
  },
  {
   "cell_type": "code",
   "execution_count": null,
   "id": "d936dcc9",
   "metadata": {},
   "outputs": [],
   "source": [
    "#What relationship is appropriate for Course and Faculty?\n",
    "\n",
    "A \"Course\" can be taught by multiple \"Faculty\" members, and a \"Faculty\" member can teach multiple \"Courses\".\n",
    "This relationship indicates that a course can have multiple instructors, and an instructor can teach multiple courses.\n",
    "\n",
    "To represent this relationship in an object-oriented design or database schema, you can use an intermediary entity or table, often referred to as a junction or association table.\n",
    "This table will establish the connection between the \"Course\" and \"Faculty\" entities."
   ]
  },
  {
   "cell_type": "code",
   "execution_count": null,
   "id": "71c70610",
   "metadata": {},
   "outputs": [],
   "source": [
    "#What relationship is appropriate for Student and Person? \n",
    "\n",
    "#In object-oriented programming, inheritance allows one class to inherit properties and behaviors from another class. In this case, the class \"Student\" can be derived from the class \"Person\". The \"Student\" class would inherit the common attributes and methods of a \"Person\", \n",
    "#while also having its specific attributes and behaviors related to being a student.\n"
   ]
  }
 ],
 "metadata": {
  "kernelspec": {
   "display_name": "Python 3 (ipykernel)",
   "language": "python",
   "name": "python3"
  },
  "language_info": {
   "codemirror_mode": {
    "name": "ipython",
    "version": 3
   },
   "file_extension": ".py",
   "mimetype": "text/x-python",
   "name": "python",
   "nbconvert_exporter": "python",
   "pygments_lexer": "ipython3",
   "version": "3.10.9"
  }
 },
 "nbformat": 4,
 "nbformat_minor": 5
}

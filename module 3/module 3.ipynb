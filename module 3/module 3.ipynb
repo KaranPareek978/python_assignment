{
 "cells": [
  {
   "cell_type": "code",
   "execution_count": null,
   "id": "ebca91b4",
   "metadata": {},
   "outputs": [],
   "source": [
    "#Differentiate between append () and extend () methods? \n",
    "\n",
    "append(): The append() method is used to add a single element to the end of a list.\n",
    "It modifies the original list by adding the new element as a single item.\n",
    "\n",
    "extend(): The extend() method is used to add multiple elements to the end of a list. \n",
    "It takes an iterable (such as a list or tuple) as an argument and adds each element from the iterable to the original list"
   ]
  },
  {
   "cell_type": "code",
   "execution_count": 1,
   "id": "f6bb936b",
   "metadata": {},
   "outputs": [
    {
     "name": "stdout",
     "output_type": "stream",
     "text": [
      "2\n"
     ]
    }
   ],
   "source": [
    "#Write a Python program to count the number of strings where the string \n",
    "#length is 2 or more and the first and last character are same from a given \n",
    "#list of strings.\n",
    "\n",
    "def match_words(words):\n",
    "  ctr = 0\n",
    "\n",
    "  for word in words:\n",
    "    if len(word) > 1 and word[0] == word[-1]:\n",
    "      ctr += 1\n",
    "  return ctr\n",
    "\n",
    "print(match_words(['abc', 'xyz', 'aba', '1221']))"
   ]
  },
  {
   "cell_type": "code",
   "execution_count": null,
   "id": "7ca641bf",
   "metadata": {},
   "outputs": [],
   "source": [
    "How will you compare two lists?\n",
    "\n",
    "To compare two lists in Python, you can use the comparison operators (==, !=, <, <=, >, >=) or\n",
    "iterate through the lists and compare their elements.\n",
    "\n",
    "1)Using comparison operators:\n",
    "    You can directly use the comparison operators to check if two lists are equal, not equal, or \n",
    "    compare their ordering based on lexicographical order. \n",
    "    The comparison operators return a Boolean value (True or False).\n",
    "\n",
    "2)Comparing elements using iteration:\n",
    "    If you want to compare the elements of two lists individually\n",
    "    you can iterate over them and check the corresponding elements using a loop.\n",
    "    "
   ]
  },
  {
   "cell_type": "code",
   "execution_count": 2,
   "id": "c4f14da9",
   "metadata": {},
   "outputs": [
    {
     "name": "stdout",
     "output_type": "stream",
     "text": [
      "[2, 33, 222, 14]\n",
      "25\n"
     ]
    }
   ],
   "source": [
    "# How will you remove last object from a list? \n",
    "#Suppose list1 is [2, 33, 222, 14, and 25], what is list1 [-1]? \n",
    "\n",
    "#To remove the last object from a list, you can use the pop() method with the index -1.\n",
    "#The pop() method removes and returns the element at the specified index.\n",
    "\n",
    "list1 = [2, 33, 222, 14, 25]\n",
    "last_object = list1.pop(-1)\n",
    "print(list1)\n",
    "print(last_object) "
   ]
  },
  {
   "cell_type": "code",
   "execution_count": 3,
   "id": "208630ac",
   "metadata": {},
   "outputs": [
    {
     "name": "stdout",
     "output_type": "stream",
     "text": [
      "larger number is : 50\n",
      "The sum of all the number is: 150\n",
      "lower number is : 10\n"
     ]
    }
   ],
   "source": [
    "#Write a Python function to get the largest number, smallest num and sum \n",
    "#of all from a list. \n",
    "\n",
    "#declaring list\n",
    "list1 = [20,10,30,50,40]\n",
    "\n",
    "#finding larger number in a list\n",
    "print(\"larger number is :\" ,max(list1))\n",
    "\n",
    "#adding all number in a list\n",
    "total = sum(list1)\n",
    "print(\"The sum of all the number is:\",total)\n",
    "\n",
    "#finding larger number in a list\n",
    "print(\"lower number is :\" ,min(list1))"
   ]
  },
  {
   "cell_type": "code",
   "execution_count": 4,
   "id": "ac6fafca",
   "metadata": {},
   "outputs": [
    {
     "name": "stdout",
     "output_type": "stream",
     "text": [
      "[5, 4, 3, 2, 1]\n"
     ]
    }
   ],
   "source": [
    "#In computer programming, a list is a data structure that stores a collection of elements.\n",
    "#It allows you to store multiple values of any data type in a sequential order. \n",
    "#Lists are commonly used to organize and manipulate data in various algorithms and programs.\n",
    "\n",
    "my_list = [1, 2, 3, 4, 5]\n",
    "my_list.reverse()\n",
    "print(my_list) "
   ]
  }
 ],
 "metadata": {
  "kernelspec": {
   "display_name": "Python 3 (ipykernel)",
   "language": "python",
   "name": "python3"
  },
  "language_info": {
   "codemirror_mode": {
    "name": "ipython",
    "version": 3
   },
   "file_extension": ".py",
   "mimetype": "text/x-python",
   "name": "python",
   "nbconvert_exporter": "python",
   "pygments_lexer": "ipython3",
   "version": "3.10.9"
  }
 },
 "nbformat": 4,
 "nbformat_minor": 5
}

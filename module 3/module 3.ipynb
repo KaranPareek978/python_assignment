{
 "cells": [
  {
   "cell_type": "code",
   "execution_count": null,
   "id": "ebca91b4",
   "metadata": {},
   "outputs": [],
   "source": [
    "#Differentiate between append () and extend () methods? \n",
    "\n",
    "append(): The append() method is used to add a single element to the end of a list.\n",
    "It modifies the original list by adding the new element as a single item.\n",
    "\n",
    "extend(): The extend() method is used to add multiple elements to the end of a list. \n",
    "It takes an iterable (such as a list or tuple) as an argument and adds each element from the iterable to the original list"
   ]
  },
  {
   "cell_type": "code",
   "execution_count": 1,
   "id": "f6bb936b",
   "metadata": {},
   "outputs": [
    {
     "name": "stdout",
     "output_type": "stream",
     "text": [
      "2\n"
     ]
    }
   ],
   "source": [
    "#Write a Python program to count the number of strings where the string \n",
    "#length is 2 or more and the first and last character are same from a given \n",
    "#list of strings.\n",
    "\n",
    "def match_words(words):\n",
    "  ctr = 0\n",
    "\n",
    "  for word in words:\n",
    "    if len(word) > 1 and word[0] == word[-1]:\n",
    "      ctr += 1\n",
    "  return ctr\n",
    "\n",
    "print(match_words(['abc', 'xyz', 'aba', '1221']))"
   ]
  },
  {
   "cell_type": "code",
   "execution_count": null,
   "id": "7ca641bf",
   "metadata": {},
   "outputs": [],
   "source": [
    "How will you compare two lists?\n",
    "\n",
    "To compare two lists in Python, you can use the comparison operators (==, !=, <, <=, >, >=) or\n",
    "iterate through the lists and compare their elements.\n",
    "\n",
    "1)Using comparison operators:\n",
    "    You can directly use the comparison operators to check if two lists are equal, not equal, or \n",
    "    compare their ordering based on lexicographical order. \n",
    "    The comparison operators return a Boolean value (True or False).\n",
    "\n",
    "2)Comparing elements using iteration:\n",
    "    If you want to compare the elements of two lists individually\n",
    "    you can iterate over them and check the corresponding elements using a loop.\n",
    "    "
   ]
  },
  {
   "cell_type": "code",
   "execution_count": 2,
   "id": "c4f14da9",
   "metadata": {},
   "outputs": [
    {
     "name": "stdout",
     "output_type": "stream",
     "text": [
      "[2, 33, 222, 14]\n",
      "25\n"
     ]
    }
   ],
   "source": [
    "# How will you remove last object from a list? \n",
    "#Suppose list1 is [2, 33, 222, 14, and 25], what is list1 [-1]? \n",
    "\n",
    "#To remove the last object from a list, you can use the pop() method with the index -1.\n",
    "#The pop() method removes and returns the element at the specified index.\n",
    "\n",
    "list1 = [2, 33, 222, 14, 25]\n",
    "last_object = list1.pop(-1)\n",
    "print(list1)\n",
    "print(last_object) "
   ]
  },
  {
   "cell_type": "code",
   "execution_count": 3,
   "id": "208630ac",
   "metadata": {},
   "outputs": [
    {
     "name": "stdout",
     "output_type": "stream",
     "text": [
      "larger number is : 50\n",
      "The sum of all the number is: 150\n",
      "lower number is : 10\n"
     ]
    }
   ],
   "source": [
    "#Write a Python function to get the largest number, smallest num and sum \n",
    "#of all from a list. \n",
    "\n",
    "#declaring list\n",
    "list1 = [20,10,30,50,40]\n",
    "\n",
    "#finding larger number in a list\n",
    "print(\"larger number is :\" ,max(list1))\n",
    "\n",
    "#adding all number in a list\n",
    "total = sum(list1)\n",
    "print(\"The sum of all the number is:\",total)\n",
    "\n",
    "#finding larger number in a list\n",
    "print(\"lower number is :\" ,min(list1))"
   ]
  },
  {
   "cell_type": "code",
   "execution_count": 4,
   "id": "ac6fafca",
   "metadata": {},
   "outputs": [
    {
     "name": "stdout",
     "output_type": "stream",
     "text": [
      "[5, 4, 3, 2, 1]\n"
     ]
    }
   ],
   "source": [
    "#In computer programming, a list is a data structure that stores a collection of elements.\n",
    "#It allows you to store multiple values of any data type in a sequential order. \n",
    "#Lists are commonly used to organize and manipulate data in various algorithms and programs.\n",
    "\n",
    "my_list = [1, 2, 3, 4, 5]\n",
    "my_list.reverse()\n",
    "print(my_list) "
   ]
  },
  {
   "cell_type": "code",
   "execution_count": 6,
   "id": "2c117426",
   "metadata": {},
   "outputs": [
    {
     "name": "stdout",
     "output_type": "stream",
     "text": [
      "[1, 2, 3, 4]\n"
     ]
    }
   ],
   "source": [
    "#write a python program to remove duplicate from a list.\n",
    "\n",
    "duplicate_list = [1,1,2,1,3,4,1,2,3,4]\n",
    "deduplicate_list = list()\n",
    "\n",
    "for item in duplicate_list:\n",
    "    if item not in deduplicate_list:\n",
    "        deduplicate_list.append(item)\n",
    "\n",
    "print(deduplicate_list)"
   ]
  },
  {
   "cell_type": "code",
   "execution_count": 10,
   "id": "01d5c1d9",
   "metadata": {},
   "outputs": [
    {
     "name": "stdout",
     "output_type": "stream",
     "text": [
      "the list is empty\n"
     ]
    }
   ],
   "source": [
    "#write a python program to check the list is empy or not\n",
    "\n",
    "def check_list(list1):\n",
    "    if len(list1)==0:\n",
    "        return 0\n",
    "    else :\n",
    "        return 1\n",
    "    \n",
    "\n",
    "list1 = []\n",
    "if check_list(list1):\n",
    "    print(\"the list is not empty\")\n",
    "    \n",
    "else:\n",
    "    print(\"the list is empty\")\n"
   ]
  },
  {
   "cell_type": "code",
   "execution_count": 20,
   "id": "fe92785b",
   "metadata": {},
   "outputs": [
    {
     "name": "stdout",
     "output_type": "stream",
     "text": [
      "True\n"
     ]
    }
   ],
   "source": [
    "#Write a Python function that takes two lists and returns true if they have \n",
    "#at least one common member.\n",
    "\n",
    "def check_list(list1 ,list2):\n",
    "    result = False\n",
    "    for x in list1:\n",
    "        for y in list2:\n",
    "            if x == y:\n",
    "                result = True\n",
    "                return result\n",
    "            else:\n",
    "                result = False\n",
    "                return result\n",
    "                \n",
    "list1 = [1,2,3,4,5]\n",
    "list2 = [1,7,8,9,10]\n",
    "\n",
    "print(check_list(list1 , list2))"
   ]
  },
  {
   "cell_type": "code",
   "execution_count": 21,
   "id": "3118541a",
   "metadata": {},
   "outputs": [
    {
     "name": "stdout",
     "output_type": "stream",
     "text": [
      "First 5 elements:\n",
      "[1, 4, 9, 16, 25]\n",
      "Last 5 elements:\n",
      "[676, 729, 784, 841, 900]\n"
     ]
    }
   ],
   "source": [
    "#Write a Python program to generate and print a list of first and last 5 \n",
    "#elements where the values are square of numbers between 1 and 30.\n",
    "\n",
    "squares = [num ** 2 for num in range(1, 31)]\n",
    "\n",
    "# Print the first 5 elements\n",
    "print(\"First 5 elements:\")\n",
    "print(squares[:5])\n",
    "\n",
    "# Print the last 5 elements\n",
    "print(\"Last 5 elements:\")\n",
    "print(squares[-5:])"
   ]
  },
  {
   "cell_type": "code",
   "execution_count": 32,
   "id": "2b39620a",
   "metadata": {},
   "outputs": [
    {
     "name": "stdout",
     "output_type": "stream",
     "text": [
      "[1, 2, 3, 4, 5]\n"
     ]
    }
   ],
   "source": [
    "#Write a Python function that takes a list and returns a new list with unique \n",
    "#elements of the first list.\n",
    "\n",
    "def unique_list(lst):\n",
    "\n",
    "    list1 = []\n",
    "\n",
    "    for a in lst:\n",
    "\n",
    "        if a not in list1:\n",
    "\n",
    "            list1.append(a)\n",
    "\n",
    "    return list1\n",
    "\n",
    "print(unique_list([1,2,3,3,3,3,4,5]))"
   ]
  },
  {
   "cell_type": "code",
   "execution_count": 34,
   "id": "2758af11",
   "metadata": {},
   "outputs": [
    {
     "name": "stdout",
     "output_type": "stream",
     "text": [
      "KARAN\n"
     ]
    }
   ],
   "source": [
    "#Write a Python program to convert a list of characters into a string.\n",
    "\n",
    "list1 = ['K','A','R','A','N']\n",
    "print(\"\".join(list1))\n"
   ]
  },
  {
   "cell_type": "code",
   "execution_count": null,
   "id": "95d86161",
   "metadata": {},
   "outputs": [],
   "source": [
    "#Write a Python program to select an item randomly from a list.\n",
    "\n",
    "import random\n",
    "\n",
    "def select_random_item(items):\n",
    "    if not items:\n",
    "        return None\n",
    "    return random.choice(items)\n",
    "\n",
    "my_list = [1, 2, 3, 4, 5]\n",
    "random_item = select_random_item(my_list)\n",
    "print(\"Randomly selected item:\", random_item)"
   ]
  },
  {
   "cell_type": "code",
   "execution_count": 3,
   "id": "df77ce0f",
   "metadata": {},
   "outputs": [
    {
     "name": "stdout",
     "output_type": "stream",
     "text": [
      "4\n"
     ]
    }
   ],
   "source": [
    "#Write a Python program to find the second smallest number in a list.\n",
    "\n",
    "list_of_numbers = [2, 5, 4 , 10, 45 ,70]\n",
    "  \n",
    "def findSecondSmallest(lst):\n",
    "    temp_lst = lst.copy()\n",
    "    firstSmallest = min(temp_lst)\n",
    "    temp_lst.remove(firstSmallest)\n",
    "    return min(temp_lst)\n",
    "\n",
    "print(findSecondSmallest(list_of_numbers))"
   ]
  },
  {
   "cell_type": "code",
   "execution_count": null,
   "id": "20728076",
   "metadata": {},
   "outputs": [],
   "source": [
    "#Write a Python program to get unique values from a list\n",
    "\n",
    "def get_unique_values(lst):\n",
    "    return list(set(lst))\n",
    "\n",
    "my_list = [1, 2, 2, 3, 4, 4, 5, 5]\n",
    "unique_values = get_unique_values(my_list)\n",
    "print(\"Unique values:\", unique_values)"
   ]
  },
  {
   "cell_type": "code",
   "execution_count": 4,
   "id": "48058f50",
   "metadata": {},
   "outputs": [
    {
     "name": "stdout",
     "output_type": "stream",
     "text": [
      "Is sublist present? True\n"
     ]
    }
   ],
   "source": [
    "#Write a Python program to check whether a list contains a sub list.\n",
    "\n",
    "def is_sublist(main_list, sublist):\n",
    "    if len(sublist) == 0:\n",
    "        return True\n",
    "\n",
    "    for i in range(len(main_list)):\n",
    "        if main_list[i:i+len(sublist)] == sublist:\n",
    "            return True\n",
    "\n",
    "    return False\n",
    "\n",
    "my_list = [1, 2, 3, 4, 5, 6, 7, 8]\n",
    "sub_list = [3, 4, 5]\n",
    "is_sub = is_sublist(my_list, sub_list)\n",
    "print(\"Is sublist present?\", is_sub)"
   ]
  },
  {
   "cell_type": "code",
   "execution_count": 5,
   "id": "75f1caf3",
   "metadata": {},
   "outputs": [
    {
     "name": "stdout",
     "output_type": "stream",
     "text": [
      "Variable 1: 1\n",
      "Variable 2: 2\n",
      "Remaining: [3, 4, 5]\n"
     ]
    }
   ],
   "source": [
    "#Write a Python program to split a list into different variables. \n",
    "\n",
    "def split_list_into_variables(lst):\n",
    "    if len(lst) < 2:\n",
    "        return None\n",
    "\n",
    "    # Unpacking the list into variables\n",
    "    var1, var2, *remaining = lst\n",
    "\n",
    "    return var1, var2, remaining\n",
    "\n",
    "my_list = [1, 2, 3, 4, 5]\n",
    "var1, var2, remaining = split_list_into_variables(my_list)\n",
    "\n",
    "print(\"Variable 1:\", var1)\n",
    "print(\"Variable 2:\", var2)\n",
    "print(\"Remaining:\", remaining)"
   ]
  },
  {
   "cell_type": "code",
   "execution_count": null,
   "id": "3fe19234",
   "metadata": {},
   "outputs": [],
   "source": [
    "#What is tuple? Difference between list and tuple.\n",
    "\n",
    "#A tuple is an ordered, immutable collection of elements in Python. It is a data structure similar to a list,\n",
    "#but with the key difference that tuples are immutable,meaning their elements cannot be modified once the tuple is created.\n",
    "#Tuples are defined using parentheses ( ) and can contain elements of different data types, such as numbers,\n",
    "#strings, or even other tuples. Elements within a tuple are separated by commas.\n",
    "\n",
    "#Mutability: Lists are mutable, meaning you can add, remove, or modify elements after the list is created.\n",
    "#In contrast, tuples are immutable, meaning their elements cannot be changed once the tuple is created.\n",
    "#If you need a collection that remains constant throughout your program, \n",
    "#or when you want to ensure that the data cannot be modified accidentally, tuples are a suitable choice.\n",
    "\n",
    "#Syntax: Lists are defined using square brackets [ ], while tuples are defined using parentheses ( ).\n",
    "#For example, a list could be defined as [1, 2, 3], whereas a tuple would be defined as (1, 2, 3).\n",
    "\n",
    "#Performance: Tuples are generally more memory-efficient than lists because they are immutable. \n",
    "#This means that tuples can be faster to access and iterate over compared to lists. \n",
    "#If you have a collection of data that won't change, using tuples can be more efficient in terms of memory usage and performance."
   ]
  },
  {
   "cell_type": "code",
   "execution_count": 6,
   "id": "521d77a8",
   "metadata": {},
   "outputs": [
    {
     "name": "stdout",
     "output_type": "stream",
     "text": [
      "(1, 'karan', 3.14, False)\n"
     ]
    }
   ],
   "source": [
    "#Write a Python program to create a tuple with different data types.\n",
    "\n",
    "my_tuple = (1 , 'karan', 3.14 , False)\n",
    "print(my_tuple)"
   ]
  },
  {
   "cell_type": "code",
   "execution_count": 7,
   "id": "c002c7bf",
   "metadata": {},
   "outputs": [
    {
     "name": "stdout",
     "output_type": "stream",
     "text": [
      "(1, 2, 3, 4, 5, 6, 7, 8)\n"
     ]
    }
   ],
   "source": [
    "#Write a Python program to create a tuple with numbers.\n",
    "\n",
    "my_tuple = (1 , 2, 3, 4, 5 , 6, 7 ,8 ,)\n",
    "print(my_tuple)"
   ]
  },
  {
   "cell_type": "code",
   "execution_count": null,
   "id": "187e2c28",
   "metadata": {},
   "outputs": [],
   "source": [
    "#Write a Python program to convert a tuple to a string. \n",
    "\n",
    "def convert_tuple_to_string(my_tuple):\n",
    "    stringified_tuple = ''.join(map(str, my_tuple))\n",
    "    return stringified_tuple\n",
    "\n",
    "my_tuple = (1, 2, 3, 4, 5)\n",
    "stringified_tuple = convert_tuple_to_string(my_tuple)\n",
    "print(\"Tuple as a string:\", stringified_tuple)"
   ]
  },
  {
   "cell_type": "code",
   "execution_count": null,
   "id": "850217f2",
   "metadata": {},
   "outputs": [],
   "source": [
    "#Write a Python program to check whether an element exists within a \n",
    "tuple.\n",
    "\n",
    "def element_exists(my_tuple, element):\n",
    "    if element in my_tuple:\n",
    "        return True\n",
    "    else:\n",
    "        return False\n",
    "\n",
    "my_tuple = (1, 2, 3, 4, 5)\n",
    "element = 3\n",
    "exists = element_exists(my_tuple, element)\n",
    "print(\"Element exists in the tuple:\", exists)"
   ]
  },
  {
   "cell_type": "code",
   "execution_count": 9,
   "id": "d7722d73",
   "metadata": {},
   "outputs": [
    {
     "name": "stdout",
     "output_type": "stream",
     "text": [
      "Length of the tuple: 5\n"
     ]
    }
   ],
   "source": [
    "#Write a Python program to find the length of a tuple.\n",
    "\n",
    "def tuple_length(my_tuple):\n",
    "    length = len(my_tuple)\n",
    "    return length\n",
    "\n",
    "my_tuple = (1, 2, 3, 4, 5)\n",
    "length = tuple_length(my_tuple)\n",
    "print(\"Length of the tuple:\", length)"
   ]
  },
  {
   "cell_type": "code",
   "execution_count": 10,
   "id": "0096eaad",
   "metadata": {},
   "outputs": [
    {
     "name": "stdout",
     "output_type": "stream",
     "text": [
      "List as a tuple: (1, 2, 3, 4, 5)\n"
     ]
    }
   ],
   "source": [
    "#Write a Python program to convert a list to a tuple.\n",
    "\n",
    "def convert_list_to_tuple(my_list):\n",
    "    my_tuple = tuple(my_list)\n",
    "    return my_tuple\n",
    "\n",
    "my_list = [1, 2, 3, 4, 5]\n",
    "my_tuple = convert_list_to_tuple(my_list)\n",
    "print(\"List as a tuple:\", my_tuple)"
   ]
  },
  {
   "cell_type": "code",
   "execution_count": 11,
   "id": "512e2d49",
   "metadata": {},
   "outputs": [
    {
     "name": "stdout",
     "output_type": "stream",
     "text": [
      "Reversed tuple: (5, 4, 3, 2, 1)\n"
     ]
    }
   ],
   "source": [
    "#Write a Python program to reverse a tuple.\n",
    "\n",
    "def reverse_tuple(my_tuple):\n",
    "    reversed_tuple = tuple(reversed(my_tuple))\n",
    "    return reversed_tuple\n",
    "\n",
    "my_tuple = (1, 2, 3, 4, 5)\n",
    "reversed_tuple = reverse_tuple(my_tuple)\n",
    "print(\"Reversed tuple:\", reversed_tuple)"
   ]
  },
  {
   "cell_type": "code",
   "execution_count": 12,
   "id": "e12dad1a",
   "metadata": {},
   "outputs": [
    {
     "name": "stdout",
     "output_type": "stream",
     "text": [
      "Updated list: [(1, 2, 10), (4, 5, 10), (7, 8, 10)]\n"
     ]
    }
   ],
   "source": [
    "#Write a Python program to replace last value of tuples in a list. \n",
    "\n",
    "def replace_last_value(tuples_list, new_value):\n",
    "    updated_list = [tuple[:-1] + (new_value,) for tuple in tuples_list]\n",
    "    return updated_list\n",
    "\n",
    "tuples_list = [(1, 2, 3), (4, 5, 6), (7, 8, 9)]\n",
    "new_value = 10\n",
    "updated_list = replace_last_value(tuples_list, new_value)\n",
    "print(\"Updated list:\", updated_list)"
   ]
  },
  {
   "cell_type": "code",
   "execution_count": 13,
   "id": "ba8cd87c",
   "metadata": {},
   "outputs": [
    {
     "name": "stdout",
     "output_type": "stream",
     "text": [
      "Repeated items: {2, 3}\n"
     ]
    }
   ],
   "source": [
    "#Write a Python program to find the repeated items of a tuple. \n",
    "\n",
    "def find_repeated_items(my_tuple):\n",
    "    repeated_items = set()\n",
    "    unique_items = set()\n",
    "\n",
    "    for item in my_tuple:\n",
    "        if item in unique_items:\n",
    "            repeated_items.add(item)\n",
    "        else:\n",
    "            unique_items.add(item)\n",
    "\n",
    "    return repeated_items\n",
    "\n",
    "my_tuple = (1, 2, 3, 4, 2, 5, 3, 6)\n",
    "repeated_items = find_repeated_items(my_tuple)\n",
    "print(\"Repeated items:\", repeated_items)"
   ]
  },
  {
   "cell_type": "code",
   "execution_count": 13,
   "id": "a15ee7ad",
   "metadata": {},
   "outputs": [
    {
     "name": "stdout",
     "output_type": "stream",
     "text": [
      "[('karan', 'mukesh', 'siddhart'), ('3', '4', '5', '6')]\n"
     ]
    }
   ],
   "source": [
    "#Write a Python program to remove an empty tuple(s) from a list of tuples.\n",
    "\n",
    "def removet(lst):\n",
    "    li=[ num for num in lst if num]\n",
    "    return li\n",
    "lst=[ (), ('karan', 'mukesh', 'siddhart'), (), ('3', '4', '5', '6') ]\n",
    "print(removet(lst))"
   ]
  },
  {
   "cell_type": "code",
   "execution_count": 21,
   "id": "e3761160",
   "metadata": {},
   "outputs": [
    {
     "name": "stdout",
     "output_type": "stream",
     "text": [
      "[1, 4]\n",
      "[2, 5]\n",
      "[3, 6]\n"
     ]
    }
   ],
   "source": [
    "#Write a Python program to unzip a list of tuples into individual lists.\n",
    "\n",
    "list1 = [(1,2,3),(4,5,6)]\n",
    "unzipped_list = list(zip(*list1))\n",
    "for item in unzipped_list:\n",
    "    print(list(item))"
   ]
  },
  {
   "cell_type": "code",
   "execution_count": 15,
   "id": "0d1d57fd",
   "metadata": {},
   "outputs": [
    {
     "name": "stdout",
     "output_type": "stream",
     "text": [
      "Dictionary: {'a': 1, 'b': 2, 'c': 3}\n"
     ]
    }
   ],
   "source": [
    "#Write a Python program to convert a list of tuples into a dictionary.\n",
    "\n",
    "def convert_to_dictionary(tuples_list):\n",
    "    dictionary = dict(tuples_list)\n",
    "    return dictionary\n",
    "\n",
    "tuples_list = [(\"a\", 1), (\"b\", 2), (\"c\", 3)]\n",
    "dictionary = convert_to_dictionary(tuples_list)\n",
    "print(\"Dictionary:\", dictionary)"
   ]
  },
  {
   "cell_type": "code",
   "execution_count": 17,
   "id": "296ebbb7",
   "metadata": {},
   "outputs": [
    {
     "name": "stdout",
     "output_type": "stream",
     "text": [
      "Dictionary: {'a': 1, 'b': 2, 'c': 3}\n"
     ]
    }
   ],
   "source": [
    "#How will you create a dictionary using tuples in python?\n",
    "\n",
    "tuples_list = [(\"a\", 1), (\"b\", 2), (\"c\", 3)]\n",
    "dictionary = dict(tuples_list)\n",
    "print(\"Dictionary:\", dictionary)"
   ]
  },
  {
   "cell_type": "code",
   "execution_count": 18,
   "id": "e7015e9f",
   "metadata": {},
   "outputs": [
    {
     "name": "stdout",
     "output_type": "stream",
     "text": [
      "ascending order :  [(0, 0), (2, 1), (1, 2), (4, 3), (3, 4)]\n",
      "descending order :  {3: 4, 4: 3, 1: 2, 2: 1, 0: 0}\n"
     ]
    }
   ],
   "source": [
    "# Write a Python script to sort (ascending and descending) a dictionary by \n",
    "# value.\n",
    "\n",
    "import operator\n",
    "\n",
    "d = {1: 2, 3: 4, 4: 3, 2: 1, 0: 0}\n",
    "\n",
    "s= sorted(d.items(), key=operator.itemgetter(1))\n",
    "\n",
    "print('ascending order : ',s)\n",
    "\n",
    "s1= dict( sorted(d.items(), key=operator.itemgetter(1),reverse=True))\n",
    "\n",
    "print('descending order : ',s1)"
   ]
  },
  {
   "cell_type": "code",
   "execution_count": 19,
   "id": "184781a6",
   "metadata": {},
   "outputs": [
    {
     "name": "stdout",
     "output_type": "stream",
     "text": [
      "Concatenated dictionary: {'a': 1, 'b': 2, 'c': 3, 'd': 4, 'e': 5, 'f': 6}\n"
     ]
    }
   ],
   "source": [
    "#Write a Python script to concatenate following dictionaries to create a \n",
    "#new one.\n",
    "\n",
    "def concatenate_dictionaries(*dictionaries):\n",
    "    new_dictionary = {}\n",
    "    for dictionary in dictionaries:\n",
    "        new_dictionary.update(dictionary)\n",
    "    return new_dictionary\n",
    "\n",
    "dict1 = {'a': 1, 'b': 2}\n",
    "dict2 = {'c': 3, 'd': 4}\n",
    "dict3 = {'e': 5, 'f': 6}\n",
    "\n",
    "concatenated_dict = concatenate_dictionaries(dict1, dict2, dict3)\n",
    "print(\"Concatenated dictionary:\", concatenated_dict)"
   ]
  },
  {
   "cell_type": "code",
   "execution_count": 2,
   "id": "afdc5776",
   "metadata": {},
   "outputs": [
    {
     "name": "stdout",
     "output_type": "stream",
     "text": [
      "Key exists in the dictionary.\n"
     ]
    }
   ],
   "source": [
    "#Write a Python script to check if a given key already exists in a dictionary. \n",
    "\n",
    "def check_key_in_dictionary(dictionary, key):\n",
    "    if key in dictionary:\n",
    "        print(\"Key exists in the dictionary.\")\n",
    "    else:\n",
    "        print(\"Key does not exist in the dictionary.\")\n",
    "        \n",
    "my_dict = {'name': 'karan', 'age': 24, 'city': 'surat'}\n",
    "\n",
    "# Check if 'name' key exists in the dictionary\n",
    "check_key_in_dictionary(my_dict, 'name')"
   ]
  },
  {
   "cell_type": "code",
   "execution_count": 3,
   "id": "f510a9d6",
   "metadata": {},
   "outputs": [
    {
     "name": "stdout",
     "output_type": "stream",
     "text": [
      "name\n",
      "age\n",
      "city\n"
     ]
    }
   ],
   "source": [
    "#How Do You Traverse Through A Dictionary Object In Python?\n",
    "\n",
    "my_dict = {'name': 'KARAN', 'age': 24, 'city': 'surat'}\n",
    "\n",
    "for key in my_dict.keys():\n",
    "    print(key)"
   ]
  },
  {
   "cell_type": "code",
   "execution_count": 4,
   "id": "dcc96b6e",
   "metadata": {},
   "outputs": [
    {
     "name": "stdout",
     "output_type": "stream",
     "text": [
      "Key 'name' exists in the dictionary.\n"
     ]
    }
   ],
   "source": [
    "#How Do You Check The Presence Of A Key In A Dictionary?\n",
    "\n",
    "my_dict = {'name': 'karan', 'age': 24, 'city': 'surat'}\n",
    "\n",
    "if 'name' in my_dict:\n",
    "    print(\"Key 'name' exists in the dictionary.\")\n",
    "else:\n",
    "    print(\"Key 'name' does not exist in the dictionary.\")"
   ]
  },
  {
   "cell_type": "code",
   "execution_count": 5,
   "id": "3d7fa958",
   "metadata": {},
   "outputs": [
    {
     "name": "stdout",
     "output_type": "stream",
     "text": [
      "{1: None, 2: None, 3: None, 4: None, 5: None, 6: None, 7: None, 8: None, 9: None, 10: None, 11: None, 12: None, 13: None, 14: None, 15: None}\n"
     ]
    }
   ],
   "source": [
    "#Write a Python script to print a dictionary where the keys are numbers between 1 and 15\n",
    "\n",
    "my_dict = {}\n",
    "\n",
    "for num in range(1, 16):\n",
    "    my_dict[num] = None\n",
    "\n",
    "print(my_dict)"
   ]
  },
  {
   "cell_type": "code",
   "execution_count": 6,
   "id": "c0cb5a57",
   "metadata": {},
   "outputs": [
    {
     "name": "stdout",
     "output_type": "stream",
     "text": [
      "Key 'name' exists in the dictionary.\n",
      "Key 'gender' does not exist in the dictionary.\n",
      "Key 'city' exists in the dictionary.\n"
     ]
    }
   ],
   "source": [
    "#Write a Python program to check multiple keys exists in a dictionary \n",
    "\n",
    "def check_keys_in_dictionary(dictionary, keys):\n",
    "    for key in keys:\n",
    "        if key in dictionary:\n",
    "            print(f\"Key '{key}' exists in the dictionary.\")\n",
    "        else:\n",
    "            print(f\"Key '{key}' does not exist in the dictionary.\")\n",
    "\n",
    "my_dict = {'name': 'karan', 'age': 24, 'city': 'surat'}\n",
    "\n",
    "# List of keys to check\n",
    "keys_to_check = ['name', 'gender', 'city']\n",
    "\n",
    "# Check if keys exist in the dictionary\n",
    "check_keys_in_dictionary(my_dict, keys_to_check)"
   ]
  },
  {
   "cell_type": "code",
   "execution_count": 8,
   "id": "2bcf6a79",
   "metadata": {},
   "outputs": [
    {
     "name": "stdout",
     "output_type": "stream",
     "text": [
      "{'name': 'karan', 'age': 24, 'city': 'surat', 'country': 'India'}\n"
     ]
    }
   ],
   "source": [
    "#Write a Python script to merge two Python dictionaries \n",
    "\n",
    "def merge_dictionaries(dict1, dict2):\n",
    "    merged_dict = dict1.copy()\n",
    "    merged_dict.update(dict2)\n",
    "    return merged_dict\n",
    "\n",
    "dict1 = {'name': 'karan', 'age':24}\n",
    "dict2 = {'city': 'surat', 'country': 'India'}\n",
    "\n",
    "merged_dict = merge_dictionaries(dict1, dict2)\n",
    "print(merged_dict)"
   ]
  },
  {
   "cell_type": "code",
   "execution_count": null,
   "id": "9e760daa",
   "metadata": {},
   "outputs": [],
   "source": [
    "#Why Do You Use the Zip () Method in Python? \n",
    "\n",
    "#The zip() function in Python is used to combine or pair corresponding elements from\n",
    "#two or more iterables (such as lists, tuples, or strings) and create an iterator of tuples.\n",
    "# Each tuple contains elements from all the iterables, grouped together based on their positions.\n",
    "\n"
   ]
  },
  {
   "cell_type": "code",
   "execution_count": 26,
   "id": "10caaf24",
   "metadata": {},
   "outputs": [
    {
     "name": "stdout",
     "output_type": "stream",
     "text": [
      "ac ad bc bd "
     ]
    }
   ],
   "source": [
    "#Write a Python program to create and display all combinations of letters, \n",
    "#selecting each letter from a different key in a dictionary.\n",
    "\n",
    "dic =  {'1': ['a','b'], '2': ['c','d']} \n",
    "lst = list(dic.values())\n",
    "for i in lst[0]:\n",
    "    for j in lst[1]:\n",
    "        print(i+j,end = ' ')"
   ]
  },
  {
   "cell_type": "code",
   "execution_count": 36,
   "id": "0460aa4b",
   "metadata": {},
   "outputs": [
    {
     "data": {
      "text/plain": [
       "(55, 45, 3)"
      ]
     },
     "execution_count": 36,
     "metadata": {},
     "output_type": "execute_result"
    }
   ],
   "source": [
    "# Write a Python program to find the highest 3 values in a dictionary\n",
    "\n",
    "d1 = {'a':1 , 'b':2 , 'c':3 , 'd':45 ,'e':55}\n",
    "l1 = list(d1.values())\n",
    "l1.sort()\n",
    "l1[-1], l1[-2], l1[-3]"
   ]
  },
  {
   "cell_type": "code",
   "execution_count": 1,
   "id": "c47267c9",
   "metadata": {},
   "outputs": [
    {
     "name": "stdout",
     "output_type": "stream",
     "text": [
      "[25, 20, 15]\n"
     ]
    }
   ],
   "source": [
    "#Write a Python program to find the highest 3 values in a dictionary \n",
    "\n",
    "def find_highest_three(dictionary):\n",
    "    values = sorted(dictionary.values(), reverse=True)[:3]\n",
    "    return values\n",
    "\n",
    "my_dict = {'a': 10, 'b': 5, 'c': 15, 'd': 20, 'e': 25}\n",
    "highest_three = find_highest_three(my_dict)\n",
    "print(highest_three)"
   ]
  },
  {
   "cell_type": "code",
   "execution_count": null,
   "id": "4b978684",
   "metadata": {},
   "outputs": [],
   "source": [
    "#Write a Python program to combine values in python list of dictionaries. \n",
    "#Sample data: [{'item': 'item1', 'amount': 400}, {'item': 'item2', 'amount': 300}, o {'item': 'item1', 'amount': 750}]\n",
    "\n"
   ]
  },
  {
   "cell_type": "code",
   "execution_count": 2,
   "id": "53d28da9",
   "metadata": {},
   "outputs": [
    {
     "name": "stdout",
     "output_type": "stream",
     "text": [
      "{'w': 1, '3': 1, 'r': 2, 'e': 2, 's': 1, 'o': 1, 'u': 1, 'c': 1}\n"
     ]
    }
   ],
   "source": [
    "#Write a Python program to create a dictionary from a string. Note: Track the count of the letters from the string. \n",
    "#Sample string: 'w3resource'\n",
    "\n",
    "def create_letter_count_dict(string):\n",
    "    letter_count_dict = {}\n",
    "    for letter in string:\n",
    "        if letter in letter_count_dict:\n",
    "            letter_count_dict[letter] += 1\n",
    "        else:\n",
    "            letter_count_dict[letter] = 1\n",
    "    return letter_count_dict\n",
    "\n",
    "sample_string = 'w3resource'\n",
    "result_dict = create_letter_count_dict(sample_string)\n",
    "print(result_dict)"
   ]
  },
  {
   "cell_type": "code",
   "execution_count": 3,
   "id": "efb7207e",
   "metadata": {},
   "outputs": [
    {
     "name": "stdout",
     "output_type": "stream",
     "text": [
      "The factorial of 5 is: 120\n"
     ]
    }
   ],
   "source": [
    "#Write a Python function to calculate the factorial of a number (a non-negative integer) \n",
    "\n",
    "def factorial(n):\n",
    "    if n < 0:\n",
    "        raise ValueError(\"Factorial is undefined for negative numbers.\")\n",
    "    elif n == 0:\n",
    "        return 1\n",
    "    else:\n",
    "        result = 1\n",
    "        for i in range(1, n + 1):\n",
    "            result *= i\n",
    "        return result\n",
    "\n",
    "num = 5\n",
    "factorial_result = factorial(num)\n",
    "print(f\"The factorial of {num} is: {factorial_result}\")"
   ]
  },
  {
   "cell_type": "code",
   "execution_count": 4,
   "id": "22cbca0f",
   "metadata": {},
   "outputs": [
    {
     "name": "stdout",
     "output_type": "stream",
     "text": [
      "Is 10 within the range [5, 15]? True\n"
     ]
    }
   ],
   "source": [
    "#Write a Python function to check whether a number is in a given range\n",
    "\n",
    "def is_within_range(number, start, end):\n",
    "    if start <= number <= end:\n",
    "        return True\n",
    "    else:\n",
    "        return False\n",
    "\n",
    "number_to_check = 10\n",
    "start_range = 5\n",
    "end_range = 15\n",
    "is_within = is_within_range(number_to_check, start_range, end_range)\n",
    "print(f\"Is {number_to_check} within the range [{start_range}, {end_range}]? {is_within}\")"
   ]
  },
  {
   "cell_type": "code",
   "execution_count": 5,
   "id": "b19f120d",
   "metadata": {},
   "outputs": [
    {
     "name": "stdout",
     "output_type": "stream",
     "text": [
      "28 is a perfect number.\n"
     ]
    }
   ],
   "source": [
    "# Write a Python function to check whether a number is perfect or not.\n",
    "\n",
    "def is_perfect_number(number):\n",
    "    if number < 1:\n",
    "        return False\n",
    "\n",
    "    divisors = [1]  # Start with 1 as a divisor\n",
    "    for i in range(2, int(number**0.5) + 1):\n",
    "        if number % i == 0:\n",
    "            divisors.append(i)\n",
    "            if i != number // i:\n",
    "                divisors.append(number // i)\n",
    "\n",
    "    return sum(divisors) == number\n",
    "\n",
    "number_to_check = 28\n",
    "is_perfect = is_perfect_number(number_to_check)\n",
    "if is_perfect:\n",
    "    print(f\"{number_to_check} is a perfect number.\")\n",
    "else:\n",
    "    print(f\"{number_to_check} is not a perfect number.\")"
   ]
  },
  {
   "cell_type": "code",
   "execution_count": 7,
   "id": "dff1da8b",
   "metadata": {},
   "outputs": [
    {
     "name": "stdout",
     "output_type": "stream",
     "text": [
      "The string 'Karan is teaches science' is not a palindrome.\n"
     ]
    }
   ],
   "source": [
    "#Write a Python function that checks whether a passed string is palindrome or not\n",
    "\n",
    "def is_palindrome(string):\n",
    "    # Remove whitespace and convert to lowercase\n",
    "    string = string.replace(\" \", \"\").lower()\n",
    "    # Reverse the string\n",
    "    reversed_string = string[::-1]\n",
    "    # Check if the original and reversed strings are the same\n",
    "    return string == reversed_string\n",
    "\n",
    "string_to_check = \"Karan is teaches science\"\n",
    "if is_palindrome(string_to_check):\n",
    "    print(f\"The string '{string_to_check}' is a palindrome.\")\n",
    "else:\n",
    "    print(f\"The string '{string_to_check}' is not a palindrome.\")"
   ]
  },
  {
   "cell_type": "code",
   "execution_count": null,
   "id": "78300ef7",
   "metadata": {},
   "outputs": [],
   "source": [
    "#How Many Basic Types Of Functions Are Available In Python?\n",
    "\n",
    "#Built-in Functions: These functions are pre-defined in Python and are available for direct use. \n",
    "                    #Examples include print(), len(), type(), max(), min(), etc. \n",
    "                    #These functions are part of the Python standard library and provide core functionalities.\n",
    "#User-defined Functions: These functions are created by the users or developers to perform specific tasks. \n",
    "                        #User-defined functions are defined using the def keyword followed by a function name, \n",
    "                        #optional parameters, and a block of code. These functions encapsulate a set of statements that can be reused throughout a program.        "
   ]
  },
  {
   "cell_type": "code",
   "execution_count": 8,
   "id": "c17f8982",
   "metadata": {},
   "outputs": [
    {
     "name": "stdout",
     "output_type": "stream",
     "text": [
      "grape\n"
     ]
    }
   ],
   "source": [
    "#How can you pick a random item from a list or tuple? \n",
    "\n",
    "import random\n",
    "\n",
    "my_tuple = ('apple', 'banana', 'orange', 'grape')\n",
    "random_item = random.choice(my_tuple)\n",
    "print(random_item)"
   ]
  },
  {
   "cell_type": "code",
   "execution_count": 11,
   "id": "71601424",
   "metadata": {},
   "outputs": [
    {
     "name": "stdout",
     "output_type": "stream",
     "text": [
      "9\n"
     ]
    }
   ],
   "source": [
    "#How can you pick a random item from a range?\n",
    "\n",
    "import random\n",
    "\n",
    "my_range = range(1, 10)\n",
    "random_item = random.choice(my_range)\n",
    "print(random_item)"
   ]
  },
  {
   "cell_type": "code",
   "execution_count": 12,
   "id": "2f254567",
   "metadata": {},
   "outputs": [
    {
     "name": "stdout",
     "output_type": "stream",
     "text": [
      "2.557714385529453\n"
     ]
    }
   ],
   "source": [
    "#How can you get a random number in python?\n",
    "\n",
    "import random\n",
    "\n",
    "random_number = random.uniform(1.0, 5.0)\n",
    "print(random_number)"
   ]
  },
  {
   "cell_type": "code",
   "execution_count": 13,
   "id": "f515c54a",
   "metadata": {},
   "outputs": [
    {
     "name": "stdout",
     "output_type": "stream",
     "text": [
      "0.052363598850944326\n",
      "2\n"
     ]
    }
   ],
   "source": [
    "# How will you set the starting value in generating random numbers? \n",
    "\n",
    "import random\n",
    "\n",
    "# Set the seed value\n",
    "seed_value = 123\n",
    "random.seed(seed_value)\n",
    "\n",
    "# Generate random numbers\n",
    "random_number1 = random.random()\n",
    "random_number2 = random.randint(1, 10)\n",
    "\n",
    "# Print the random numbers\n",
    "print(random_number1)\n",
    "print(random_number2)"
   ]
  },
  {
   "cell_type": "code",
   "execution_count": 14,
   "id": "23aa5bc8",
   "metadata": {},
   "outputs": [
    {
     "name": "stdout",
     "output_type": "stream",
     "text": [
      "[2, 5, 1, 3, 4]\n"
     ]
    }
   ],
   "source": [
    "#How will you randomizes the items of a list in place? \n",
    "\n",
    "import random\n",
    "\n",
    "my_list = [1, 2, 3, 4, 5]\n",
    "random.shuffle(my_list)\n",
    "print(my_list)"
   ]
  },
  {
   "cell_type": "code",
   "execution_count": 3,
   "id": "2b89eb23",
   "metadata": {},
   "outputs": [
    {
     "ename": "FileExistsError",
     "evalue": "[Errno 17] File exists: 'myfile.txt'",
     "output_type": "error",
     "traceback": [
      "\u001b[1;31m---------------------------------------------------------------------------\u001b[0m",
      "\u001b[1;31mFileExistsError\u001b[0m                           Traceback (most recent call last)",
      "Cell \u001b[1;32mIn[3], line 3\u001b[0m\n\u001b[0;32m      1\u001b[0m \u001b[38;5;66;03m#create a file\u001b[39;00m\n\u001b[1;32m----> 3\u001b[0m f \u001b[38;5;241m=\u001b[39m \u001b[38;5;28;43mopen\u001b[39;49m\u001b[43m(\u001b[49m\u001b[38;5;124;43m\"\u001b[39;49m\u001b[38;5;124;43mmyfile.txt\u001b[39;49m\u001b[38;5;124;43m\"\u001b[39;49m\u001b[43m,\u001b[49m\u001b[43m \u001b[49m\u001b[38;5;124;43m\"\u001b[39;49m\u001b[38;5;124;43mx\u001b[39;49m\u001b[38;5;124;43m\"\u001b[39;49m\u001b[43m)\u001b[49m\n\u001b[0;32m      5\u001b[0m f \u001b[38;5;241m=\u001b[39m \u001b[38;5;28mopen\u001b[39m(\u001b[38;5;124m\"\u001b[39m\u001b[38;5;124mmyfile.txt\u001b[39m\u001b[38;5;124m\"\u001b[39m, \u001b[38;5;124m\"\u001b[39m\u001b[38;5;124mw\u001b[39m\u001b[38;5;124m\"\u001b[39m)\n",
      "File \u001b[1;32mE:\\anaconda\\lib\\site-packages\\IPython\\core\\interactiveshell.py:282\u001b[0m, in \u001b[0;36m_modified_open\u001b[1;34m(file, *args, **kwargs)\u001b[0m\n\u001b[0;32m    275\u001b[0m \u001b[38;5;28;01mif\u001b[39;00m file \u001b[38;5;129;01min\u001b[39;00m {\u001b[38;5;241m0\u001b[39m, \u001b[38;5;241m1\u001b[39m, \u001b[38;5;241m2\u001b[39m}:\n\u001b[0;32m    276\u001b[0m     \u001b[38;5;28;01mraise\u001b[39;00m \u001b[38;5;167;01mValueError\u001b[39;00m(\n\u001b[0;32m    277\u001b[0m         \u001b[38;5;124mf\u001b[39m\u001b[38;5;124m\"\u001b[39m\u001b[38;5;124mIPython won\u001b[39m\u001b[38;5;124m'\u001b[39m\u001b[38;5;124mt let you open fd=\u001b[39m\u001b[38;5;132;01m{\u001b[39;00mfile\u001b[38;5;132;01m}\u001b[39;00m\u001b[38;5;124m by default \u001b[39m\u001b[38;5;124m\"\u001b[39m\n\u001b[0;32m    278\u001b[0m         \u001b[38;5;124m\"\u001b[39m\u001b[38;5;124mas it is likely to crash IPython. If you know what you are doing, \u001b[39m\u001b[38;5;124m\"\u001b[39m\n\u001b[0;32m    279\u001b[0m         \u001b[38;5;124m\"\u001b[39m\u001b[38;5;124myou can use builtins\u001b[39m\u001b[38;5;124m'\u001b[39m\u001b[38;5;124m open.\u001b[39m\u001b[38;5;124m\"\u001b[39m\n\u001b[0;32m    280\u001b[0m     )\n\u001b[1;32m--> 282\u001b[0m \u001b[38;5;28;01mreturn\u001b[39;00m io_open(file, \u001b[38;5;241m*\u001b[39margs, \u001b[38;5;241m*\u001b[39m\u001b[38;5;241m*\u001b[39mkwargs)\n",
      "\u001b[1;31mFileExistsError\u001b[0m: [Errno 17] File exists: 'myfile.txt'"
     ]
    }
   ],
   "source": [
    "#create a file\n",
    "\n",
    "f = open(\"myfile.txt\", \"x\")"
   ]
  },
  {
   "cell_type": "code",
   "execution_count": 5,
   "id": "283f58fc",
   "metadata": {},
   "outputs": [
    {
     "name": "stdout",
     "output_type": "stream",
     "text": [
      "Text file 'example.txt' has been created successfully.\n"
     ]
    }
   ],
   "source": [
    "# create a text file\n",
    "\n",
    "def create_text_file(file_path, content):\n",
    "    with open(file_path, 'w') as file:\n",
    "        file.write(content)\n",
    "    print(f\"Text file '{file_path}' has been created successfully.\")\n",
    "\n",
    "# Example usage:\n",
    "file_path = 'example.txt'  # Replace with the desired file path\n",
    "file_content = '''This is an example text file.\n",
    "It contains some lines of text.\n",
    "You can customize the content as needed.'''\n",
    "\n",
    "create_text_file(file_path, file_content)"
   ]
  },
  {
   "cell_type": "code",
   "execution_count": 7,
   "id": "704d9112",
   "metadata": {},
   "outputs": [
    {
     "ename": "SyntaxError",
     "evalue": "unexpected character after line continuation character (2425917828.py, line 5)",
     "output_type": "error",
     "traceback": [
      "\u001b[1;36m  Cell \u001b[1;32mIn[7], line 5\u001b[1;36m\u001b[0m\n\u001b[1;33m    def read_random_line(C:\\Users\\karan\\Downloads\\python practice):\u001b[0m\n\u001b[1;37m                            ^\u001b[0m\n\u001b[1;31mSyntaxError\u001b[0m\u001b[1;31m:\u001b[0m unexpected character after line continuation character\n"
     ]
    }
   ],
   "source": [
    "#Write a Python program to read a random line from a file.\n",
    "\n",
    "import random\n",
    "\n",
    "def read_random_line(C:\\Users\\karan\\Downloads\\python practice):\n",
    "    with open(C:\\Users\\karan\\Downloads\\python practice, 'r') as file:\n",
    "        lines = file.readlines()\n",
    "        random_line = random.choice(lines)\n",
    "        return random_line\n",
    "\n",
    "file_path = 'example.txt' \n",
    "random_line = read_random_line(C:\\Users\\karan\\Downloads\\python practice)\n",
    "print(random_line)"
   ]
  },
  {
   "cell_type": "code",
   "execution_count": 8,
   "id": "c4e3e7ed",
   "metadata": {},
   "outputs": [
    {
     "name": "stdout",
     "output_type": "stream",
     "text": [
      "Enter the angle in degrees: 45\n",
      "Angle in radians: 0.7853981633974483\n"
     ]
    }
   ],
   "source": [
    "#Write a Python program to convert degree to radian\n",
    "\n",
    "import math\n",
    "\n",
    "def degree_to_radian(degrees):\n",
    "    radians = degrees * (math.pi / 180)\n",
    "    return radians\n",
    "\n",
    "# Test the function\n",
    "degrees = float(input(\"Enter the angle in degrees: \"))\n",
    "radians = degree_to_radian(degrees)\n",
    "print(\"Angle in radians:\", radians)"
   ]
  },
  {
   "cell_type": "code",
   "execution_count": 20,
   "id": "6c13c5ea",
   "metadata": {},
   "outputs": [
    {
     "name": "stdout",
     "output_type": "stream",
     "text": [
      "Enter the length of the first base: 5\n",
      "Enter the length of the second base: 5\n",
      "Enter the height: 5\n",
      "The area of the trapezoid is: 25.0\n"
     ]
    }
   ],
   "source": [
    "def calculate_trapezoid_area(base1, base2, height):\n",
    "    area = (base1 + base2) * height / 2\n",
    "    return area\n",
    "\n",
    "base1 = float(input(\"Enter the length of the first base: \"))\n",
    "base2 = float(input(\"Enter the length of the second base: \"))\n",
    "height = float(input(\"Enter the height: \"))\n",
    "\n",
    "area = calculate_trapezoid_area(base1, base2, height)\n",
    "print(\"The area of the trapezoid is:\", area)"
   ]
  },
  {
   "cell_type": "code",
   "execution_count": 21,
   "id": "1d34d528",
   "metadata": {},
   "outputs": [
    {
     "name": "stdout",
     "output_type": "stream",
     "text": [
      "Enter the length of the base: 5\n",
      "Enter the height: 5\n",
      "The area of the parallelogram is: 25.0\n"
     ]
    }
   ],
   "source": [
    "#Write a Python program to calculate the area of a parallelogram\n",
    "\n",
    "\n",
    "def calculate_parallelogram_area(base, height):\n",
    "    area = base * height\n",
    "    return area\n",
    "\n",
    "# Test the function\n",
    "base = float(input(\"Enter the length of the base: \"))\n",
    "height = float(input(\"Enter the height: \"))\n",
    "\n",
    "area = calculate_parallelogram_area(base, height)\n",
    "print(\"The area of the parallelogram is:\", area)"
   ]
  },
  {
   "cell_type": "code",
   "execution_count": 22,
   "id": "f0884941",
   "metadata": {},
   "outputs": [
    {
     "name": "stdout",
     "output_type": "stream",
     "text": [
      "Enter the radius of the cylinder: 5\n",
      "Enter the height of the cylinder: 5\n",
      "The volume of the cylinder is: 392.69908169872417\n",
      "The surface area of the cylinder is: 314.1592653589793\n"
     ]
    }
   ],
   "source": [
    "#Write a Python program to calculate surface volume and area of a cylinder\n",
    "\n",
    "import math\n",
    "\n",
    "def calculate_cylinder_volume(radius, height):\n",
    "    volume = math.pi * radius**2 * height\n",
    "    return volume\n",
    "\n",
    "def calculate_cylinder_surface_area(radius, height):\n",
    "    base_area = math.pi * radius**2\n",
    "    lateral_area = 2 * math.pi * radius * height\n",
    "    surface_area = 2 * base_area + lateral_area\n",
    "    return surface_area\n",
    "\n",
    "# Test the functions\n",
    "radius = float(input(\"Enter the radius of the cylinder: \"))\n",
    "height = float(input(\"Enter the height of the cylinder: \"))\n",
    "\n",
    "volume = calculate_cylinder_volume(radius, height)\n",
    "surface_area = calculate_cylinder_surface_area(radius, height)\n",
    "\n",
    "print(\"The volume of the cylinder is:\", volume)\n",
    "print(\"The surface area of the cylinder is:\", surface_area)"
   ]
  },
  {
   "cell_type": "code",
   "execution_count": 23,
   "id": "e5d23e12",
   "metadata": {},
   "outputs": [
    {
     "name": "stdout",
     "output_type": "stream",
     "text": [
      "Enter a number: 5\n",
      "Sum of divisors of 5 is: 6\n"
     ]
    }
   ],
   "source": [
    "#Write a Python program to returns sum of all divisors of a number 5\n",
    "\n",
    "def sum_of_divisors(number):\n",
    "    divisor_sum = 0\n",
    "    for i in range(1, number+1):\n",
    "        if number % i == 0:\n",
    "            divisor_sum += i\n",
    "    return divisor_sum\n",
    "\n",
    "# Test the function\n",
    "number = int(input(\"Enter a number: \"))\n",
    "\n",
    "divisor_sum = sum_of_divisors(number)\n",
    "print(\"Sum of divisors of\", number, \"is:\", divisor_sum)"
   ]
  },
  {
   "cell_type": "code",
   "execution_count": 30,
   "id": "e607aad1",
   "metadata": {},
   "outputs": [
    {
     "name": "stdout",
     "output_type": "stream",
     "text": [
      "Enter the number of decimal numbers: 1\n",
      "Enter decimal number: 1.0\n",
      "Maximum number: 1.0\n",
      "Minimum number: 1.0\n"
     ]
    }
   ],
   "source": [
    "#Write a Python program to find the maximum and minimum numbers from the specified decimal numbers. \n",
    "\n",
    "def find_maximum(numbers):\n",
    "    maximum = max(numbers)\n",
    "    return maximum\n",
    "\n",
    "def find_minimum(numbers):\n",
    "    minimum = min(numbers)\n",
    "    return minimum\n",
    "\n",
    "# Test the functions\n",
    "decimal_numbers = []\n",
    "\n",
    "# Read input numbers\n",
    "n = int(input(\"Enter the number of decimal numbers: \"))\n",
    "for i in range(n):\n",
    "    num = float(input(\"Enter decimal number: \"))\n",
    "    decimal_numbers.append(num)\n",
    "\n",
    "maximum_number = find_maximum(decimal_numbers)\n",
    "minimum_number = find_minimum(decimal_numbers)\n",
    "\n",
    "print(\"Maximum number:\", maximum_number)\n",
    "print(\"Minimum number:\", minimum_number)"
   ]
  }
 ],
 "metadata": {
  "kernelspec": {
   "display_name": "Python 3 (ipykernel)",
   "language": "python",
   "name": "python3"
  },
  "language_info": {
   "codemirror_mode": {
    "name": "ipython",
    "version": 3
   },
   "file_extension": ".py",
   "mimetype": "text/x-python",
   "name": "python",
   "nbconvert_exporter": "python",
   "pygments_lexer": "ipython3",
   "version": "3.10.9"
  }
 },
 "nbformat": 4,
 "nbformat_minor": 5
}

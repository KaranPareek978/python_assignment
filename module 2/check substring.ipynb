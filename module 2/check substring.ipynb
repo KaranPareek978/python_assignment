{
 "cells": [
  {
   "cell_type": "code",
   "execution_count": 2,
   "id": "4e4f2c74",
   "metadata": {},
   "outputs": [
    {
     "name": "stdout",
     "output_type": "stream",
     "text": [
      "Enter a string: karan pareek\n",
      "Enter a substring to count: pareek\n",
      "The substring 'pareek' occurs 1 times in the string.\n"
     ]
    }
   ],
   "source": [
    "def count_substring(string, substring):\n",
    "    count = 0\n",
    "    start = 0\n",
    "\n",
    "    while True:\n",
    "        # Find the next occurrence of the substring\n",
    "        index = string.find(substring, start)\n",
    "\n",
    "        # If no occurrence is found, exit the loop\n",
    "        if index == -1:\n",
    "            break\n",
    "\n",
    "        # Update count and start position for the next search\n",
    "        count += 1\n",
    "        start = index + 1\n",
    "\n",
    "    return count\n",
    "\n",
    "\n",
    "input_string = input(\"Enter a string: \")\n",
    "input_substring = input(\"Enter a substring to count: \")\n",
    "\n",
    "occurrences = count_substring(input_string, input_substring)\n",
    "print(f\"The substring '{input_substring}' occurs {occurrences} times in the string.\")"
   ]
  }
 ],
 "metadata": {
  "kernelspec": {
   "display_name": "Python 3 (ipykernel)",
   "language": "python",
   "name": "python3"
  },
  "language_info": {
   "codemirror_mode": {
    "name": "ipython",
    "version": 3
   },
   "file_extension": ".py",
   "mimetype": "text/x-python",
   "name": "python",
   "nbconvert_exporter": "python",
   "pygments_lexer": "ipython3",
   "version": "3.10.9"
  }
 },
 "nbformat": 4,
 "nbformat_minor": 5
}

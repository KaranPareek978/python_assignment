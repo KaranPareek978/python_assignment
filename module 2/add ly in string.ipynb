{
 "cells": [
  {
   "cell_type": "code",
   "execution_count": 1,
   "id": "ee14d05f",
   "metadata": {},
   "outputs": [
    {
     "name": "stdout",
     "output_type": "stream",
     "text": [
      "Enter a string: taking\n",
      "Modified string:\n",
      "takingly\n"
     ]
    }
   ],
   "source": [
    "def add_ing_ly(string):\n",
    "    if len(string) < 3:\n",
    "        return string\n",
    "\n",
    "    if string[-3:] == 'ing':\n",
    "        return string + 'ly'\n",
    "    else:\n",
    "        return string + 'ing'\n",
    "\n",
    "input_string = input(\"Enter a string: \")\n",
    "\n",
    "result = add_ing_ly(input_string)\n",
    "print(\"Modified string:\")\n",
    "print(result)"
   ]
  }
 ],
 "metadata": {
  "kernelspec": {
   "display_name": "Python 3 (ipykernel)",
   "language": "python",
   "name": "python3"
  },
  "language_info": {
   "codemirror_mode": {
    "name": "ipython",
    "version": 3
   },
   "file_extension": ".py",
   "mimetype": "text/x-python",
   "name": "python",
   "nbconvert_exporter": "python",
   "pygments_lexer": "ipython3",
   "version": "3.10.9"
  }
 },
 "nbformat": 4,
 "nbformat_minor": 5
}

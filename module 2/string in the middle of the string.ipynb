{
 "cells": [
  {
   "cell_type": "code",
   "execution_count": 1,
   "id": "6f91fa65",
   "metadata": {},
   "outputs": [
    {
     "name": "stdout",
     "output_type": "stream",
     "text": [
      "Enter the original string: karan\n",
      "Enter the string to insert: pareek\n",
      "Modified string:\n",
      "kapareekran\n"
     ]
    }
   ],
   "source": [
    "def insert_string(original_string, string_to_insert):\n",
    "    middle_index = len(original_string) // 2\n",
    "\n",
    "    # Insert the string in the middle of the original string\n",
    "    new_string = original_string[:middle_index] + string_to_insert + original_string[middle_index:]\n",
    "\n",
    "    return new_string\n",
    "\n",
    "\n",
    "input_string = input(\"Enter the original string: \")\n",
    "insertion_string = input(\"Enter the string to insert: \")\n",
    "\n",
    "result = insert_string(input_string, insertion_string)\n",
    "print(\"Modified string:\")\n",
    "print(result)"
   ]
  }
 ],
 "metadata": {
  "kernelspec": {
   "display_name": "Python 3 (ipykernel)",
   "language": "python",
   "name": "python3"
  },
  "language_info": {
   "codemirror_mode": {
    "name": "ipython",
    "version": 3
   },
   "file_extension": ".py",
   "mimetype": "text/x-python",
   "name": "python",
   "nbconvert_exporter": "python",
   "pygments_lexer": "ipython3",
   "version": "3.10.9"
  }
 },
 "nbformat": 4,
 "nbformat_minor": 5
}

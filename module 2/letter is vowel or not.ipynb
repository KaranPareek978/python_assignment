{
 "cells": [
  {
   "cell_type": "code",
   "execution_count": 3,
   "id": "03368e04",
   "metadata": {},
   "outputs": [
    {
     "name": "stdout",
     "output_type": "stream",
     "text": [
      "Enter a letter: i\n",
      "i is a vowel.\n"
     ]
    }
   ],
   "source": [
    "def is_vowel(letter):\n",
    "    vowels = ['a', 'e', 'i', 'o', 'u']\n",
    "    if letter.lower() in vowels:\n",
    "        return True\n",
    "    else:\n",
    "        return False\n",
    "\n",
    "letter = input(\"Enter a letter: \")\n",
    "if len(letter) == 1:\n",
    "    if is_vowel(letter):\n",
    "        print(f\"{letter} is a vowel.\")\n",
    "    else:\n",
    "        print(f\"{letter} is not a vowel.\")\n",
    "else:\n",
    "    print(\"Please enter only a single letter.\")"
   ]
  }
 ],
 "metadata": {
  "kernelspec": {
   "display_name": "Python 3 (ipykernel)",
   "language": "python",
   "name": "python3"
  },
  "language_info": {
   "codemirror_mode": {
    "name": "ipython",
    "version": 3
   },
   "file_extension": ".py",
   "mimetype": "text/x-python",
   "name": "python",
   "nbconvert_exporter": "python",
   "pygments_lexer": "ipython3",
   "version": "3.10.9"
  }
 },
 "nbformat": 4,
 "nbformat_minor": 5
}

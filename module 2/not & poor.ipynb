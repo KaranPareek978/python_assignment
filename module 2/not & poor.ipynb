{
 "cells": [
  {
   "cell_type": "code",
   "execution_count": 3,
   "id": "7e25d220",
   "metadata": {},
   "outputs": [
    {
     "name": "stdout",
     "output_type": "stream",
     "text": [
      "Enter a string: she is not a poor girl\n",
      "Modified string:\n",
      "she is good girl\n"
     ]
    }
   ],
   "source": [
    "def replace_substring(string):\n",
    "    not_index = string.find('not')\n",
    "    poor_index = string.find('poor')\n",
    "\n",
    "    if not_index != -1 and poor_index != -1 and poor_index > not_index:\n",
    "        return string[:not_index] + 'good' + string[poor_index+4:]\n",
    "    else:\n",
    "        return string\n",
    "\n",
    "\n",
    "input_string = input(\"Enter a string: \")\n",
    "\n",
    "result = replace_substring(input_string)\n",
    "print(\"Modified string:\")\n",
    "print(result)"
   ]
  }
 ],
 "metadata": {
  "kernelspec": {
   "display_name": "Python 3 (ipykernel)",
   "language": "python",
   "name": "python3"
  },
  "language_info": {
   "codemirror_mode": {
    "name": "ipython",
    "version": 3
   },
   "file_extension": ".py",
   "mimetype": "text/x-python",
   "name": "python",
   "nbconvert_exporter": "python",
   "pygments_lexer": "ipython3",
   "version": "3.10.9"
  }
 },
 "nbformat": 4,
 "nbformat_minor": 5
}

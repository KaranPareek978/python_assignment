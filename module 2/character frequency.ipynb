{
 "cells": [
  {
   "cell_type": "code",
   "execution_count": 1,
   "id": "d5595142",
   "metadata": {},
   "outputs": [
    {
     "name": "stdout",
     "output_type": "stream",
     "text": [
      "Enter a string: karan\n",
      "Character frequency:\n",
      "k : 1\n",
      "a : 2\n",
      "r : 1\n",
      "n : 1\n"
     ]
    }
   ],
   "source": [
    "def count_characters(string):\n",
    "    character_count = {}\n",
    "\n",
    "    for char in string:\n",
    "        if char in character_count:\n",
    "            character_count[char] += 1\n",
    "        else:\n",
    "            character_count[char] = 1\n",
    "\n",
    "    return character_count\n",
    "\n",
    "# the user to enter a string\n",
    "input_string = input(\"Enter a string: \")\n",
    "\n",
    "result = count_characters(input_string)\n",
    "\n",
    "print(\"Character frequency:\")\n",
    "for char, count in result.items():\n",
    "    print(char, \":\", count)"
   ]
  }
 ],
 "metadata": {
  "kernelspec": {
   "display_name": "Python 3 (ipykernel)",
   "language": "python",
   "name": "python3"
  },
  "language_info": {
   "codemirror_mode": {
    "name": "ipython",
    "version": 3
   },
   "file_extension": ".py",
   "mimetype": "text/x-python",
   "name": "python",
   "nbconvert_exporter": "python",
   "pygments_lexer": "ipython3",
   "version": "3.10.9"
  }
 },
 "nbformat": 4,
 "nbformat_minor": 5
}

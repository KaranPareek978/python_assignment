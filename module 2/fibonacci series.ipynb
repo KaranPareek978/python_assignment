{
 "cells": [
  {
   "cell_type": "code",
   "execution_count": 3,
   "id": "24e09214",
   "metadata": {},
   "outputs": [
    {
     "name": "stdout",
     "output_type": "stream",
     "text": [
      "Enter the start number of the range: 0\n",
      "Enter the end number of the range: 5\n",
      "Fibonacci series within the range: [0, 1, 1, 2, 3, 5]\n"
     ]
    }
   ],
   "source": [
    "def fibonacci_range(start, end):\n",
    "    fibonacci_series = []\n",
    "    a, b = 0, 1\n",
    "\n",
    "    while a <= end:\n",
    "        if a >= start:\n",
    "            fibonacci_series.append(a)\n",
    "        a, b = b, a + b\n",
    "\n",
    "    return fibonacci_series\n",
    "\n",
    "start_num = int(input(\"Enter the start number of the range: \"))\n",
    "end_num = int(input(\"Enter the end number of the range: \"))\n",
    "\n",
    "fibonacci_result = fibonacci_range(start_num, end_num)\n",
    "print(\"Fibonacci series within the range:\", fibonacci_result)"
   ]
  }
 ],
 "metadata": {
  "kernelspec": {
   "display_name": "Python 3 (ipykernel)",
   "language": "python",
   "name": "python3"
  },
  "language_info": {
   "codemirror_mode": {
    "name": "ipython",
    "version": 3
   },
   "file_extension": ".py",
   "mimetype": "text/x-python",
   "name": "python",
   "nbconvert_exporter": "python",
   "pygments_lexer": "ipython3",
   "version": "3.10.9"
  }
 },
 "nbformat": 4,
 "nbformat_minor": 5
}

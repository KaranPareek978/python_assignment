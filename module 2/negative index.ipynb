{
 "cells": [
  {
   "cell_type": "code",
   "execution_count": null,
   "id": "b17562b9",
   "metadata": {},
   "outputs": [],
   "source": [
    "# What are negative indexes and why are they used?\n",
    "Negative indexes in Python are used to access elements in a sequence (such as a string, list, or tuple) from\n",
    "the end of the sequence rather than the beginning.\n",
    "\n",
    "In Python, the index -1 refers to the last element in a sequence, -2 refers to the second-to-last element, and so on. \n",
    "Negative indexes provide a convenient way to access elements relative to the end of a sequence without explicitly knowing its length."
   ]
  }
 ],
 "metadata": {
  "kernelspec": {
   "display_name": "Python 3 (ipykernel)",
   "language": "python",
   "name": "python3"
  },
  "language_info": {
   "codemirror_mode": {
    "name": "ipython",
    "version": 3
   },
   "file_extension": ".py",
   "mimetype": "text/x-python",
   "name": "python",
   "nbconvert_exporter": "python",
   "pygments_lexer": "ipython3",
   "version": "3.10.9"
  }
 },
 "nbformat": 4,
 "nbformat_minor": 5
}

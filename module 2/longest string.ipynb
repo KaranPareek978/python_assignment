{
 "cells": [
  {
   "cell_type": "code",
   "execution_count": 1,
   "id": "ac5b1feb",
   "metadata": {},
   "outputs": [
    {
     "name": "stdout",
     "output_type": "stream",
     "text": [
      "Enter a list of words, separated by spaces: python is a good language\n",
      "The length of the longest word is: 8\n"
     ]
    }
   ],
   "source": [
    "def find_longest_word_length(words):\n",
    "    longest_length = 0\n",
    "\n",
    "    for word in words:\n",
    "        if len(word) > longest_length:\n",
    "            longest_length = len(word)\n",
    "\n",
    "    return longest_length\n",
    "\n",
    "word_list = input(\"Enter a list of words, separated by spaces: \").split()\n",
    "\n",
    "longest_length = find_longest_word_length(word_list)\n",
    "print(f\"The length of the longest word is: {longest_length}\")"
   ]
  }
 ],
 "metadata": {
  "kernelspec": {
   "display_name": "Python 3 (ipykernel)",
   "language": "python",
   "name": "python3"
  },
  "language_info": {
   "codemirror_mode": {
    "name": "ipython",
    "version": 3
   },
   "file_extension": ".py",
   "mimetype": "text/x-python",
   "name": "python",
   "nbconvert_exporter": "python",
   "pygments_lexer": "ipython3",
   "version": "3.10.9"
  }
 },
 "nbformat": 4,
 "nbformat_minor": 5
}

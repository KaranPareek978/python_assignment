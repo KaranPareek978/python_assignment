{
 "cells": [
  {
   "cell_type": "code",
   "execution_count": 3,
   "id": "ce2ce666",
   "metadata": {},
   "outputs": [
    {
     "name": "stdout",
     "output_type": "stream",
     "text": [
      "10\n",
      "\n",
      "1\n",
      "23\n",
      "456\n",
      "78910\n",
      "1112131415\n",
      "161718192021\n",
      "22232425262728\n",
      "2930313233343536\n",
      "373839404142434445\n",
      "46474849505152535455\n"
     ]
    }
   ],
   "source": [
    "num = 1\n",
    "rows = int(input())\n",
    "for i in range(rows+1):\n",
    "    for j in range(i):\n",
    "        print (num , end='')\n",
    "        num+=1\n",
    "    print('')"
   ]
  },
  {
   "cell_type": "code",
   "execution_count": null,
   "id": "b5ea4da7",
   "metadata": {},
   "outputs": [],
   "source": [
    "number = int(input())\n",
    "\n",
    "num = 1 \n",
    "for i in range (1 , number+1):\n",
    "    for j in range()"
   ]
  },
  {
   "cell_type": "code",
   "execution_count": 1,
   "id": "0c7d9238",
   "metadata": {},
   "outputs": [
    {
     "name": "stdout",
     "output_type": "stream",
     "text": [
      "jayshree is gelappi ladki\n"
     ]
    }
   ],
   "source": [
    "print(\"jayshree is gelappi ladki\")\n"
   ]
  }
 ],
 "metadata": {
  "kernelspec": {
   "display_name": "Python 3 (ipykernel)",
   "language": "python",
   "name": "python3"
  },
  "language_info": {
   "codemirror_mode": {
    "name": "ipython",
    "version": 3
   },
   "file_extension": ".py",
   "mimetype": "text/x-python",
   "name": "python",
   "nbconvert_exporter": "python",
   "pygments_lexer": "ipython3",
   "version": "3.10.9"
  }
 },
 "nbformat": 4,
 "nbformat_minor": 5
}

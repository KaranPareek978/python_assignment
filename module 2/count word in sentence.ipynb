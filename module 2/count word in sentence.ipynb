{
 "cells": [
  {
   "cell_type": "code",
   "execution_count": 1,
   "id": "ed8ee7a5",
   "metadata": {},
   "outputs": [
    {
     "name": "stdout",
     "output_type": "stream",
     "text": [
      "Enter a sentence: python is  a superb language\n",
      "Occurrences of each word in the sentence:\n",
      "'python': 1\n",
      "'is': 1\n",
      "'a': 1\n",
      "'superb': 1\n",
      "'language': 1\n"
     ]
    }
   ],
   "source": [
    "def count_words(sentence):\n",
    "    word_counts = {}\n",
    "\n",
    "    # Split the sentence into words\n",
    "    words = sentence.split()\n",
    "pyhton is superb language\n",
    "    for word in words:\n",
    "        # Remove any punctuation marks from the word\n",
    "        word = word.strip(\",.?!\")\n",
    "\n",
    "        # Convert the word to lowercase for case-insensitive counting\n",
    "        word = word.lower()\n",
    "\n",
    "        # Update the word count in the dictionary\n",
    "        if word in word_counts:\n",
    "            word_counts[word] += 1\n",
    "        else:\n",
    "            word_counts[word] = 1\n",
    "\n",
    "    return word_counts\n",
    "\n",
    "\n",
    "input_sentence = input(\"Enter a sentence: \")\n",
    "\n",
    "word_occurrences = count_words(input_sentence)\n",
    "print(\"Occurrences of each word in the sentence:\")\n",
    "for word, count in word_occurrences.items():\n",
    "    print(f\"'{word}': {count}\")"
   ]
  }
 ],
 "metadata": {
  "kernelspec": {
   "display_name": "Python 3 (ipykernel)",
   "language": "python",
   "name": "python3"
  },
  "language_info": {
   "codemirror_mode": {
    "name": "ipython",
    "version": 3
   },
   "file_extension": ".py",
   "mimetype": "text/x-python",
   "name": "python",
   "nbconvert_exporter": "python",
   "pygments_lexer": "ipython3",
   "version": "3.10.9"
  }
 },
 "nbformat": 4,
 "nbformat_minor": 5
}

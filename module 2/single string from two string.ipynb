{
 "cells": [
  {
   "cell_type": "code",
   "execution_count": 2,
   "id": "d5bfefa6",
   "metadata": {},
   "outputs": [
    {
     "name": "stdout",
     "output_type": "stream",
     "text": [
      "Enter the first string: python is a superb language \n",
      "Enter the second string: it has a short code\n",
      "Combined string with swapped first two characters:\n",
      "itthon is a superb language  py has a short code\n"
     ]
    }
   ],
   "source": [
    "def swap_strings(string1, string2):\n",
    "    # Swap the first two characters of each string\n",
    "    new_string1 = string2[:2] + string1[2:]\n",
    "    new_string2 = string1[:2] + string2[2:]\n",
    "\n",
    "    # Combine the strings with a space in between\n",
    "    combined_string = new_string1 + \" \" + new_string2\n",
    "\n",
    "    return combined_string\n",
    "\n",
    "\n",
    "input_string1 = input(\"Enter the first string: \")\n",
    "input_string2 = input(\"Enter the second string: \")\n",
    "\n",
    "result = swap_strings(input_string1, input_string2)\n",
    "print(\"Combined string with swapped first two characters:\")\n",
    "print(result)"
   ]
  }
 ],
 "metadata": {
  "kernelspec": {
   "display_name": "Python 3 (ipykernel)",
   "language": "python",
   "name": "python3"
  },
  "language_info": {
   "codemirror_mode": {
    "name": "ipython",
    "version": 3
   },
   "file_extension": ".py",
   "mimetype": "text/x-python",
   "name": "python",
   "nbconvert_exporter": "python",
   "pygments_lexer": "ipython3",
   "version": "3.10.9"
  }
 },
 "nbformat": 4,
 "nbformat_minor": 5
}
